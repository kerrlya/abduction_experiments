{
 "cells": [
  {
   "cell_type": "markdown",
   "metadata": {},
   "source": [
    "Define example posteriors."
   ]
  },
  {
   "cell_type": "code",
   "execution_count": 17,
   "metadata": {},
   "outputs": [],
   "source": [
    "class Posterior:\n",
    "    def __init__(self,lower:float, upper:float, color:str, name:str, distribution_type=\"uniform\") -> None:\n",
    "        self.lower = lower\n",
    "        self.upper = upper\n",
    "        self.color = color\n",
    "        self.name = name\n",
    "        self.distribution_type = distribution_type\n",
    "        return\n",
    "    \n",
    "    def get_bounds(self):\n",
    "        return [self.lower, self.upper]\n",
    "    \n",
    "    def get_pdf(self,x): # uniform for now I'm lazy\n",
    "        return 1/(self.upper - self.lower)\n",
    "\n",
    "# put in your posteriors in the order you want them graphed\n",
    "aspirin = Posterior(lower=0.23, upper=0.3, name=\"Aspirin\", color=\"blue\")\n",
    "placebo = Posterior(lower=0.15, upper=0.25, name=\"Placebo\", color=\"red\")\n",
    "caffeine = Posterior(lower=0.2, upper=0.4, name=\"Caffiene\", color=\"orange\")\n",
    "cyanide = Posterior(lower=0, upper=0.002, name=\"Cyanide\", color=\"green\")\n",
    "\n",
    "posteriors = [aspirin,\n",
    "              placebo,\n",
    "              caffeine,\n",
    "              cyanide]\n"
   ]
  },
  {
   "cell_type": "markdown",
   "metadata": {},
   "source": [
    "Plotting examples"
   ]
  },
  {
   "cell_type": "code",
   "execution_count": 18,
   "metadata": {},
   "outputs": [
    {
     "data": {
      "text/plain": [
       "<matplotlib.legend.Legend at 0x13e108820>"
      ]
     },
     "execution_count": 18,
     "metadata": {},
     "output_type": "execute_result"
    },
    {
     "data": {
      "image/png": "[encoded data removed]",
      "text/plain": [
       "<Figure size 432x288 with 1 Axes>"
      ]
     },
     "metadata": {
      "needs_background": "light"
     },
     "output_type": "display_data"
    }
   ],
   "source": [
    "import matplotlib.pyplot as plt\n",
    "import numpy as np\n",
    "\n",
    "# Create a figure and axis\n",
    "fig, ax = plt.subplots()\n",
    "bar_width = 0.3\n",
    "\n",
    "# Plot the first horizontal line (stick) with confidence interval\n",
    "\n",
    "count = 1 # determines y-position on graph\n",
    "\n",
    "for posterior in posteriors:\n",
    "    ax.plot([posterior.lower, posterior.upper], \n",
    "            [count, count], label=posterior.name, color=posterior.color)\n",
    "    ax.fill_betweenx([count - bar_width, count + bar_width], posterior.lower, posterior.upper,\n",
    "                      color=posterior.color, alpha=0.2)\n",
    "\n",
    "    count += 1 # increment height\n",
    "\n",
    "# Add labels and title\n",
    "ax.set_xlabel('Posterior probability')\n",
    "ax.set_yticks([1, 2, 3, 4])\n",
    "ax.set_yticklabels([posterior.name for posterior in posteriors])\n",
    "ax.set_title(f\"Posterior Confidence Bounds\")\n",
    "\n",
    "# Add a legend\n",
    "ax.legend()"
   ]
  },
  {
   "cell_type": "markdown",
   "metadata": {},
   "source": [
    "### Find IsMax for each assuming uniform distribution\n",
    "\n",
    "<u> Independence of Posteriors (mostly) </u>:\n",
    "\n",
    "Suppose we have $k$ posteriors (this includes $M_{other}$, the combined posterior that anything not in our selected 'causes' was the cause). Treat each $M_i \\in \\mathcal{M}$ as a random variable.\n",
    "Then, **if the sum of upper bounds of every posterior in $\\mathcal{M}$ does not exceed 1**, we can let the first $k-1$ causes be independent (because of this upper bound, selecting *any* random posteriors within this range and adding them up will *never* exceed 1) while the last posterior, $M_{other}$, is a fully dependent random variable $M_{other} = 1-\\sum_i{M_i}$. \n",
    "\n",
    "<u> Pr(IsMax(M_i)) is just expected value of an indicator function </u>:\n",
    "\n",
    "For simplicity let $X$, $Y$, $Z$, ... be the chosen (independent) posterior random variables, and let $x$, $y$, and $z$ be the specific values they take on. Also, suppose we are finding the probability that $X$ is the maximum posterior. Then, let this be the indicator function that x is the maximum.\n",
    "$$\n",
    "\\mathbf{1}_{\\{{x}_{max}\\}}(x,y,z) = \\begin{cases} \n",
    "1 & \\text{if } x = \\max(\\{x,y,z,1-(x+y+z)\\}) \\\\ \n",
    "0 & \\text{otherwise }\n",
    "\\end{cases}\n",
    "$$\n",
    "\n",
    "The expected value of this indicator function basically is the same value as (1) tallying up the total number of configurations of $x$, $y$, $z$, (and $(1-x-y-z)$) where $x$ is the maximum, and then (2) dividing it by the total number of configurations of $x$, $y$, and $z$. This is the same thing as the probability that $X=x$ is the maximum.\n",
    "\n",
    "We can find this with LOTUS:\n",
    "\n",
    "$$\n",
    "\\begin{align*}\n",
    "\\Pr(IsMax(X)) &= \\int_{x_l}^{x_u} \\int_{y_l}^{y_u} \\int_{z_l}^{z_u} \\mathbf{1}_{\\{{x}_{max}\\}}(x,y,z)f(x, y, z) \\, dz \\, dy \\, dx\\\\\n",
    "&= \\int_{x_l}^{x_u} \\int_{y_l}^{y_u} \\int_{z_l}^{z_u} \\mathbf{1}_{\\{{x}_{max}\\}}(x,y,z)f(x)f(y)f(z) \\, dz \\, dy \\, dx\\\\\n",
    "\\end{align*}\n",
    "$$\n"
   ]
  },
  {
   "cell_type": "code",
   "execution_count": 59,
   "metadata": {},
   "outputs": [],
   "source": [
    "def indicator(x,y,z):\n",
    "    return int(x == max(x,y,z,1-(x+y+z))) # ew\n",
    "\n",
    "def integrand(x:float, x_obj:Posterior, y:float, y_obj:Posterior, \n",
    "              z:float, z_obj:Posterior):\n",
    "    \"\"\"integrand for expected value\"\"\"\n",
    "    return indicator(x,y,z)*x_obj.get_pdf(x)*y_obj.get_pdf(y)*z_obj.get_pdf(z)\n"
   ]
  },
  {
   "cell_type": "markdown",
   "metadata": {},
   "source": [
    "Estimate the integral (Monte-carlo integration technique, scipy complained)"
   ]
  },
  {
   "cell_type": "code",
   "execution_count": 61,
   "metadata": {},
   "outputs": [
    {
     "name": "stdout",
     "output_type": "stream",
     "text": [
      "Estimated integral: 0.12160799999999986\n",
      "Estimated standard error: 0.0001033535167935757\n"
     ]
    }
   ],
   "source": [
    "import scipy.integrate as spi\n",
    "from typing import List\n",
    "\n",
    "def monte_carlo_integration(function, x_obj, y_obj, z_obj, num_samples=10000000):\n",
    "    \"\"\"\n",
    "    Estimate the integral of a function over a 3D domain using Monte Carlo integration.\n",
    "\n",
    "    Parameters:\n",
    "    - function: callable, the function to integrate. It should accept three arguments (x, y, z).\n",
    "    - bounds1: tuple, the lower and upper bounds for the first variable (x).\n",
    "    - bounds2: tuple, the lower and upper bounds for the second variable (y).\n",
    "    - bounds3: tuple, the lower and upper bounds for the third variable (z).\n",
    "    - num_samples: int, the number of random samples to use for the estimation (default: 1,000,000).\n",
    "\n",
    "    Returns:\n",
    "    - integral_estimate: float, the estimated value of the integral.\n",
    "    - standard_error: float, the estimated standard error of the integral.\n",
    "    \"\"\"\n",
    "    x_l, x_u = x_obj.lower, x_obj.upper\n",
    "    y_l, y_u = y_obj.lower, y_obj.upper\n",
    "    z_l, z_u = z_obj.lower, z_obj.upper\n",
    "\n",
    "    # Generate random samples\n",
    "    x_samples = np.random.uniform(x_l, x_u, num_samples)\n",
    "    y_samples = np.random.uniform(y_l, y_u, num_samples)\n",
    "    z_samples = np.random.uniform(z_l, z_u, num_samples)\n",
    "\n",
    "    # Evaluate the integrand at the sample points\n",
    "    sample_evaluations = np.array([function(x, y, z) for x, y, z in zip(x_samples, y_samples, z_samples)])\n",
    "\n",
    "    # Compute the volume of the integration region\n",
    "    volume = (x_u - x_l) * (y_u - y_l) * (z_u - z_l)\n",
    "\n",
    "    # Estimate the integral as the mean of the evaluations times the volume\n",
    "    integral_estimate = volume * np.mean(sample_evaluations)\n",
    "\n",
    "    # Compute the standard error of the mean\n",
    "    standard_error = volume * np.std(sample_evaluations) / np.sqrt(num_samples)\n",
    "\n",
    "    return integral_estimate, standard_error\n",
    "\n",
    "\n",
    "integral_estimate, standard_error = monte_carlo_integration(lambda x,y,z: integrand(x, aspirin, y, placebo, z, caffeine), aspirin, placebo, caffeine) # first posterior is the one you care about\n",
    "print(f\"Estimated integral: {integral_estimate}\")\n",
    "print(f\"Estimated standard error: {standard_error}\")\n",
    "# def get_prob_max(chosen:Posterior, rest:List[Posterior]):\n",
    "\n",
    "#     result, error = spi.nquad(lambda x,y,z: integrand(x, chosen, y, rest[0], z, rest[1]), \n",
    "#                             [chosen.get_bounds(), rest[0].get_bounds(), rest[1].get_bounds()])\n",
    "#     return result/((chosen.upper-chosen.lower)*(rest[0].upper-rest[0].lower)* \n",
    "#                     (rest[1].upper-rest[1].lower)),\\\n",
    "#                         error\n",
    "\n",
    "# OLD METHOD -- more accurate but very slow (crashed my computer :,()\n",
    "# integral: 0.12152689380300634\n",
    "# error: 4.355289129863438e-08\n",
    "\n",
    "# def get_prob_max(chosen:Posterior, rest:List[Posterior]):\n",
    "#     result, error = spi.nquad(lambda x,y,z: integrand(x, chosen, y, rest[0], z, rest[1]), \n",
    "#                             [chosen.get_bounds(), rest[0].get_bounds(), rest[1].get_bounds()])\n",
    "#     return result/((chosen.upper-chosen.lower)*(rest[0].upper-rest[0].lower)* \n",
    "#                     (rest[1].upper-rest[1].lower)),\\\n",
    "#                         error\n",
    "\n"
   ]
  },
  {
   "cell_type": "code",
   "execution_count": 64,
   "metadata": {},
   "outputs": [
    {
     "name": "stdout",
     "output_type": "stream",
     "text": [
      "Estimated integral: 0.12142870000000013\n",
      "Estimated standard error: 0.00010328783607778307\n"
     ]
    }
   ],
   "source": [
    "integral_estimate_aspirin, standard_error_aspirin = monte_carlo_integration(lambda x,y,z: integrand(x, aspirin, y, placebo, z, caffeine), aspirin, placebo, caffeine) # first posterior is the one you care about\n",
    "print(f\"Estimated integral: {integral_estimate_aspirin}\")\n",
    "print(f\"Estimated standard error: {standard_error_aspirin}\")"
   ]
  },
  {
   "cell_type": "code",
   "execution_count": 66,
   "metadata": {},
   "outputs": [
    {
     "name": "stdout",
     "output_type": "stream",
     "text": [
      "Placebo integral: 0.0\n",
      "Estimated standard error: 0.0\n"
     ]
    }
   ],
   "source": [
    "# same with placebo (this is zero since C_other would have the maximum posterior)\n",
    "integral_estimate_placebo, standard_error_placebo = monte_carlo_integration(lambda x,y,z: integrand(x, placebo, y, aspirin, z, caffeine), placebo, aspirin, caffeine) # first posterior is the one you care about\n",
    "print(f\"Placebo integral: {integral_estimate_placebo}\")\n",
    "print(f\"Estimated standard error: {standard_error_placebo}\")"
   ]
  },
  {
   "cell_type": "code",
   "execution_count": 65,
   "metadata": {},
   "outputs": [
    {
     "name": "stdout",
     "output_type": "stream",
     "text": [
      "Caffeine integral: 0.5981094\n",
      "Estimated standard error: 0.0001550401708047434\n"
     ]
    }
   ],
   "source": [
    "integral_estimate_caffiene, standard_error_caffiene = monte_carlo_integration(lambda x,y,z: integrand(x, caffeine, y, aspirin, z, placebo), caffeine, placebo, aspirin) # first posterior is the one you care about\n",
    "print(f\"Caffeine integral: {integral_estimate_caffiene}\")\n",
    "print(f\"Estimated standard error: {standard_error_caffiene}\")"
   ]
  },
  {
   "cell_type": "markdown",
   "metadata": {},
   "source": [
    "This means that Pr(IsMax(M_other))= 1-(0.5981094 + 0.12142870000000013) = 0.2804618999999998"
   ]
  },
  {
   "cell_type": "code",
   "execution_count": 67,
   "metadata": {},
   "outputs": [
    {
     "data": {
      "text/plain": [
       "0.2804618999999998"
      ]
     },
     "execution_count": 67,
     "metadata": {},
     "output_type": "execute_result"
    }
   ],
   "source": [
    "1-(0.5981094 + 0.12142870000000013)"
   ]
  },
  {
   "cell_type": "markdown",
   "metadata": {},
   "source": [
    "Ignore everything below from here (Rough work)"
   ]
  },
  {
   "cell_type": "code",
   "execution_count": null,
   "metadata": {},
   "outputs": [
    {
     "data": {
      "text/plain": [
       "0.00017013765132420884"
      ]
     },
     "execution_count": 44,
     "metadata": {},
     "output_type": "execute_result"
    }
   ],
   "source": [
    "result"
   ]
  },
  {
   "cell_type": "markdown",
   "metadata": {},
   "source": [
    "This was the scipy method for calculating probability of aspirin, it's more accurate apparent"
   ]
  },
  {
   "cell_type": "code",
   "execution_count": 48,
   "metadata": {},
   "outputs": [
    {
     "data": {
      "text/plain": [
       "0.12152689380300634"
      ]
     },
     "execution_count": 48,
     "metadata": {},
     "output_type": "execute_result"
    }
   ],
   "source": [
    "result/((caffeine.upper-caffeine.lower)*(aspirin.upper-aspirin.lower)*(placebo.upper-placebo.lower))"
   ]
  },
  {
   "cell_type": "code",
   "execution_count": 30,
   "metadata": {},
   "outputs": [
    {
     "data": {
      "text/plain": [
       "4.355289129863438e-08"
      ]
     },
     "execution_count": 30,
     "metadata": {},
     "output_type": "execute_result"
    }
   ],
   "source": [
    "error"
   ]
  },
  {
   "cell_type": "code",
   "execution_count": 58,
   "metadata": {},
   "outputs": [
    {
     "data": {
      "text/plain": [
       "0.125"
      ]
     },
     "execution_count": 58,
     "metadata": {},
     "output_type": "execute_result"
    }
   ],
   "source": [
    "1/8"
   ]
  }
 ],
 "metadata": {
  "kernelspec": {
   "display_name": "Python 3",
   "language": "python",
   "name": "python3"
  },
  "language_info": {
   "codemirror_mode": {
    "name": "ipython",
    "version": 3
   },
   "file_extension": ".py",
   "mimetype": "text/x-python",
   "name": "python",
   "nbconvert_exporter": "python",
   "pygments_lexer": "ipython3",
   "version": "3.8.9"
  }
 },
 "nbformat": 4,
 "nbformat_minor": 2
}
