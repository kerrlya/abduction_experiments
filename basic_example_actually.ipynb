{
 "cells": [
  {
   "cell_type": "markdown",
   "metadata": {},
   "source": [
    "# Simple Example for Section 4 Bounds\n",
    "\n",
    "This is a simple example of computing the bounds in section 4 (theorems 4.8 and 4.9) with $\\dim(\\mathcal{O}) = 2$ with features [\"pill taken?\", \"headache relief?\"] and three selected possible causes: [\"aspirin\",\"caffeine\", \"placebo\"]. We derive bounds for all three possible causes.\n",
    "\n",
    "To help with intuition, this example uses normalized posterior probabilities (i.e., $\\Pr(\\mathbf{x})$ in the denominator), but produces the same results as the ranking is the same.\n",
    "\n",
    "### Define Setup\n",
    "\n"
   ]
  },
  {
   "cell_type": "code",
   "execution_count": 166,
   "metadata": {},
   "outputs": [],
   "source": [
    "from typing import List\n",
    "import numpy as np\n",
    "\n",
    "\n",
    "class Posterior:\n",
    "    def __init__(self,lower:float, upper:float, color:str, name:str, distribution_type=\"uniform\") -> None:\n",
    "        self.lower = lower\n",
    "        self.upper = upper\n",
    "        self.color = color\n",
    "        self.name = name\n",
    "        self.distribution_type = distribution_type\n",
    "        return\n",
    "    def get_bounds(self):\n",
    "        return [self.lower, self.upper]\n",
    "    \n",
    "    def get_pdf(self,x): \n",
    "        if self.distribution_type == \"uniform\":\n",
    "            return 1/(self.upper - self.lower)\n",
    "        else:\n",
    "            return ValueError(\"No other methods supported\")\n",
    "        \n",
    "class Cause:\n",
    "    def __init__(self, name:str, likelihood_dist_l:List[List[float]], likelihood_dist_u:List[List[float]], \n",
    "                 prior_l:float, prior_u:float, evidence_dist:List[List[float]]) -> None:\n",
    "        self.name = name\n",
    "        self.likelihood_dist_l = likelihood_dist_l\n",
    "        self.likelihood_dist_u = likelihood_dist_u\n",
    "        self.prior_l = prior_l\n",
    "        self.prior_u = prior_u\n",
    "        self.evidence_dist = evidence_dist\n",
    "        self.posteriors = self.populate_posteriors() # array of posterior objects for every observation vect\n",
    "        \n",
    "        return \n",
    "    def populate_posteriors(self):\n",
    "        posteriors = [[None,None],[None,None]]\n",
    "        for i in [0,1]:\n",
    "            for j in [0,1]:\n",
    "                lower_posterior = self.likelihood_dist_l[i][j]*self.prior_l/self.evidence_dist[i][j]\n",
    "                upper_posterior = self.likelihood_dist_u[i][j]*self.prior_u/self.evidence_dist[i][j]\n",
    "                posteriors[i][j] = Posterior(lower=lower_posterior,\n",
    "                                                  upper=upper_posterior,\n",
    "                                                  color=\"blue\",\n",
    "                                                  name=f\"Posterior of {self.name} for observation {[i,j]}\")\n",
    "        return  posteriors\n",
    "    def display_posteriors(self):\n",
    "        print(f\"Lower posteriors of cause {self.name}:\")\n",
    "        print(self.posteriors[0][0].lower, self.posteriors[0][1].lower)\n",
    "        print(self.posteriors[1][0].lower, self.posteriors[1][1].lower)\n",
    "        print(f\"\\nUpper posteriors of cause {self.name}:\")\n",
    "        print(self.posteriors[0][0].upper, self.posteriors[0][1].upper)\n",
    "        print(self.posteriors[1][0].upper, self.posteriors[1][1].upper)\n",
    "        return\n",
    "\n",
    "\n"
   ]
  },
  {
   "cell_type": "markdown",
   "metadata": {},
   "source": [
    "Create evidence distribution. Indices of the evidence distribution are as follows\n",
    "\n",
    "- (0,0)=(no pill taken, no headache relieved)\n",
    "- (0,1)=(no pill taken, headache relieved)\n",
    "\n",
    "- (1,0)=(pill taken,  no headache relieved) \n",
    "- (1,1)=(pill taken, headache relieved)\n",
    "\n",
    "This is the only fixed probability assumed."
   ]
  },
  {
   "cell_type": "code",
   "execution_count": 201,
   "metadata": {},
   "outputs": [],
   "source": [
    "EVIDENCE_DIST = [[0.3, 0.05],\n",
    "                 [0.15, 0.5]]\n",
    "Q_CONFIDENCE = 0.95"
   ]
  },
  {
   "cell_type": "markdown",
   "metadata": {},
   "source": [
    "Declare likelihood and prior ranges for each each cause: Aspirin, Placebo Pill, Caffeine."
   ]
  },
  {
   "cell_type": "code",
   "execution_count": 187,
   "metadata": {},
   "outputs": [
    {
     "name": "stdout",
     "output_type": "stream",
     "text": [
      "Lower posteriors of cause aspirin:\n",
      "0.016666666666666666 0.0\n",
      "0.16666666666666669 0.2\n",
      "\n",
      "Upper posteriors of cause aspirin:\n",
      "0.1 0.13999999999999999\n",
      "0.5333333333333333 0.8\n"
     ]
    }
   ],
   "source": [
    "# aspirin\n",
    "aspirin_likelihood_u = np.array([[0.03,0.007],\n",
    "                                  [0.08,0.4]])/0.517\n",
    "aspirin_likelihood_l = [[0.02,0],\n",
    "                        [0.10,0.4]]\n",
    "aspirin_prior_l = 0.25\n",
    "aspirin_prior_u = 0.517\n",
    "\n",
    "aspirin = Cause(name=\"aspirin\",\n",
    "                likelihood_dist_l=aspirin_likelihood_l, \n",
    "                likelihood_dist_u=aspirin_likelihood_u,\n",
    "                prior_l=aspirin_prior_l,\n",
    "                prior_u=aspirin_prior_u,\n",
    "                evidence_dist=EVIDENCE_DIST)\n",
    "\n",
    "\n",
    "aspirin.display_posteriors()"
   ]
  },
  {
   "cell_type": "code",
   "execution_count": 188,
   "metadata": {},
   "outputs": [
    {
     "name": "stdout",
     "output_type": "stream",
     "text": [
      "Lower posteriors of cause placebo:\n",
      "0.006666666666666667 0.0\n",
      "0.33333333333333337 0.010000000000000002\n",
      "\n",
      "Upper posteriors of cause placebo:\n",
      "0.06666666666666667 0.06\n",
      "0.4 0.06\n"
     ]
    }
   ],
   "source": [
    "# placebo\n",
    "# (0,0)=(no pill taken, no headache relieved) | (0,1)=(no pill taken, headache relieved)\n",
    "# (1,0)=(pill taken,  no headache relieved)   | (1,1)=(pill taken, headache relieved)\n",
    "\n",
    "placebo_likelihood_u = np.array([[0.02,0.003],\n",
    "                        [0.06,0.03]])/0.113\n",
    "placebo_likelihood_l = [[0.02,0],\n",
    "                        [0.5,0.05]]\n",
    "placebo_prior_l = 0.1\n",
    "placebo_prior_u = 0.113\n",
    "\n",
    "placebo = Cause(name=\"placebo\",\n",
    "                likelihood_dist_l=placebo_likelihood_l, \n",
    "                likelihood_dist_u=placebo_likelihood_u,\n",
    "                prior_l=placebo_prior_l,\n",
    "                prior_u=placebo_prior_u,\n",
    "                evidence_dist=EVIDENCE_DIST)\n",
    "\n",
    "\n",
    "placebo.display_posteriors()"
   ]
  },
  {
   "cell_type": "code",
   "execution_count": 189,
   "metadata": {},
   "outputs": [
    {
     "name": "stdout",
     "output_type": "stream",
     "text": [
      "Lower posteriors of cause caffeine:\n",
      "0.06666666666666668 0.10000000000000002\n",
      "0.0 0.010000000000000002\n",
      "\n",
      "Upper posteriors of cause caffeine:\n",
      "0.8333333333333334 0.7999999999999999\n",
      "0.06666666666666667 0.14\n"
     ]
    }
   ],
   "source": [
    "# caffeine\n",
    "# (0,0)=(no pill taken, no headache relieved) | (0,1)=(no pill taken, headache relieved)\n",
    "# (1,0)=(pill taken,  no headache relieved)   | (1,1)=(pill taken, headache relieved)\n",
    "\n",
    "caffeine_likelihood_u = np.array([[0.25,0.04],        # began with posteriors for toy example\n",
    "                                  [0.01,0.07]])/0.37\n",
    "\n",
    "caffeine_likelihood_l = [[0.2,0.05],\n",
    "                        [0.0,0.05]]\n",
    "caffeine_prior_l = 0.1\n",
    "caffeine_prior_u = 0.37\n",
    "\n",
    "caffeine = Cause(name=\"caffeine\",\n",
    "                likelihood_dist_l=caffeine_likelihood_l, \n",
    "                likelihood_dist_u=caffeine_likelihood_u,\n",
    "                prior_l=caffeine_prior_l,\n",
    "                prior_u=caffeine_prior_u,\n",
    "                evidence_dist=EVIDENCE_DIST)\n",
    "\n",
    "\n",
    "caffeine.display_posteriors()"
   ]
  },
  {
   "cell_type": "markdown",
   "metadata": {},
   "source": [
    "Verify that sum of upper bounds of posteriors are less than or equal to 1. "
   ]
  },
  {
   "cell_type": "code",
   "execution_count": 190,
   "metadata": {},
   "outputs": [
    {
     "name": "stdout",
     "output_type": "stream",
     "text": [
      "1.0\n",
      "0.9999999999999999\n",
      "1.0\n",
      "1.0\n"
     ]
    }
   ],
   "source": [
    "for i in [0,1]:\n",
    "    for j in [0,1]:\n",
    "        print(caffeine.posteriors[i][j].upper+placebo.posteriors[i][j].upper+aspirin.posteriors[i][j].upper)\n"
   ]
  },
  {
   "cell_type": "markdown",
   "metadata": {},
   "source": [
    "Define example posteriors along with 95% confidence intervals."
   ]
  },
  {
   "cell_type": "code",
   "execution_count": 173,
   "metadata": {},
   "outputs": [],
   "source": [
    "# define observation ector\n",
    "pill = 1 # pill is present\n",
    "relief = 0 # headache not relieved\n",
    "\n",
    "\n",
    "# OLD WAY\n",
    "# aspirin = Posterior(lower=0.23, upper=0.3, name=\"Aspirin\", color=\"blue\")\n",
    "# placebo = Posterior(lower=0.15, upper=0.25, name=\"Placebo\", color=\"red\")\n",
    "# caffeine = Posterior(lower=0.2, upper=0.4, name=\"Caffiene\", color=\"orange\")\n",
    "# cyanide = Posterior(lower=0, upper=0.002, name=\"Cyanide\", color=\"green\")\n",
    "\n",
    "aspirin_post = aspirin.posteriors[pill][relief]\n",
    "placebo_post = placebo.posteriors[pill][relief]\n",
    "caffeine_post = caffeine.posteriors[pill][relief]\n",
    "\n",
    "aspirin_post.color = \"red\"\n",
    "caffeine_post.color = \"orange\"\n",
    "\n",
    "posteriors = [aspirin_post,\n",
    "              placebo_post,\n",
    "              caffeine_post]"
   ]
  },
  {
   "cell_type": "markdown",
   "metadata": {},
   "source": [
    "Plot the 95% confidence posterior ranges."
   ]
  },
  {
   "cell_type": "code",
   "execution_count": 174,
   "metadata": {},
   "outputs": [
    {
     "data": {
      "text/plain": [
       "Text(0.5, 1.0, 'Posterior Confidence Bounds')"
      ]
     },
     "execution_count": 174,
     "metadata": {},
     "output_type": "execute_result"
    },
    {
     "data": {
      "image/png": "[encoded data removed]",
      "text/plain": [
       "<Figure size 432x288 with 1 Axes>"
      ]
     },
     "metadata": {
      "needs_background": "light"
     },
     "output_type": "display_data"
    }
   ],
   "source": [
    "import matplotlib.pyplot as plt\n",
    "import numpy as np\n",
    "\n",
    "# Create a figure and axis\n",
    "fig, ax = plt.subplots()\n",
    "bar_width = 0.3\n",
    "\n",
    "# Plot the first horizontal line (stick) with confidence interval\n",
    "\n",
    "count = 1 # determines y-position on graph\n",
    "\n",
    "for posterior in posteriors:\n",
    "    ax.plot([posterior.lower, posterior.upper], \n",
    "            [count, count], label=posterior.name, color=posterior.color)\n",
    "    ax.fill_betweenx([count - bar_width, count + bar_width], posterior.lower, posterior.upper,\n",
    "                      color=posterior.color, alpha=0.2)\n",
    "\n",
    "    count += 1 # increment height\n",
    "\n",
    "# Add labels and title\n",
    "ax.set_xlabel('Posterior probability')\n",
    "ax.set_yticks([1, 2, 3])\n",
    "ax.set_yticklabels([posterior.name for posterior in posteriors])\n",
    "ax.set_title(f\"Posterior Confidence Bounds\")\n",
    "\n",
    "# Add a legend\n",
    "# ax.legend()"
   ]
  },
  {
   "cell_type": "markdown",
   "metadata": {},
   "source": [
    "### Finding IsMax\n",
    "Note that in this experiment we use normalized posteriors for intuition $M_i = \\frac{\\Pr(C_i|\\mathbf{x})\\Pr(C_i)}{\\Pr(x)}$ for intution, and so they sum up to 1.\n",
    "\n",
    "Theorem 4.2 makes no assumptions about the placement of the upper and lower posterior bounds. If the upper posteriors bounds do not exceed $1$, the posteriors of selected causes are independent, leaving any remaining probability to the (dependent) last cause, $C_{other}$. (One could use a similar method if the sum of upper posteriors exceeded 1, but formulating the probability density function would require additional steps. We went with the easier approach since this example is for intuition.)\n",
    "\n",
    "Here's the reasoning:\n",
    "\n",
    "<u> Independence of Posteriors </u>:\n",
    "\n",
    "\n",
    "Suppose we have $k$ posteriors (this includes $M_{other}$, the combined posterior that anything not in our selected 'causes' was the cause). Treat each $M_i \\in \\mathcal{M}$ as a random variable.\n",
    "Then, **if the sum of upper bounds of every posterior in $\\mathcal{M}$ does not exceed 1 (or $\\Pr(\\mathbf{x})$)**, we can let the first $k-1$ causes be independent (because of this upper bound, selecting *any* random posteriors within this range and adding them up will *never* exceed $\\Pr(\\mathbf{x})$) while the last posterior, $M_{other}$, is a fully dependent random variable $M_{other} = 1-\\sum_i{M_i}$ (or  $M_{other} = \\Pr(\\mathbf{x})-\\sum_i{M_i}$). \n",
    "\n",
    "<u> Pr(IsMax(M_i)) is just expected value of an indicator function </u>:\n",
    "\n",
    "For simplicity let $X$, $Y$, $Z$, ... be the chosen (independent) posterior random variables, and let $x$, $y$, and $z$ be the specific values they take on. Also, suppose we are finding the probability that $X$ is the maximum posterior. Then, let this be the indicator function that x is the maximum.\n",
    "$$\n",
    "\\mathbf{1}_{\\{{x}_{max}\\}}(x,y,z) = \\begin{cases} \n",
    "1 & \\text{if } x = \\max(\\{x,y,z,1-(x+y+z)\\}) \\\\ \n",
    "0 & \\text{otherwise }\n",
    "\\end{cases}\n",
    "$$\n",
    "\n",
    "The expected value of this indicator function basically is the same value as (1) tallying up the total number of configurations of $x$, $y$, $z$, (and $(1-x-y-z)$) where $x$ is the maximum, and then (2) dividing it by the total number of configurations of $x$, $y$, and $z$. This is the same thing as the probability that $X=x$ is the maximum.\n",
    "\n",
    "We can find this with LOTUS:\n",
    "\n",
    "$$\n",
    "\\begin{align*}\n",
    "\\Pr(IsMax(X)) &= \\int_{x_l}^{x_u} \\int_{y_l}^{y_u} \\int_{z_l}^{z_u} \\mathbf{1}_{\\{{x}_{max}\\}}(x,y,z)f(x, y, z) \\, dz \\, dy \\, dx\\\\\n",
    "&= \\int_{x_l}^{x_u} \\int_{y_l}^{y_u} \\int_{z_l}^{z_u} \\mathbf{1}_{\\{{x}_{max}\\}}(x,y,z)f(x)f(y)f(z) \\, dz \\, dy \\, dx\\\\\n",
    "\\end{align*}\n",
    "$$\n"
   ]
  },
  {
   "cell_type": "code",
   "execution_count": 175,
   "metadata": {},
   "outputs": [],
   "source": [
    "def indicator(x,y,z):\n",
    "    return int(x == max(x,y,z,1-(x+y+z))) # ew\n",
    "\n",
    "def integrand(x:float, x_obj:Posterior, y:float, y_obj:Posterior, \n",
    "              z:float, z_obj:Posterior):\n",
    "    \"\"\"integrand for expected value\"\"\"\n",
    "    return indicator(x,y,z)*x_obj.get_pdf(x)*y_obj.get_pdf(y)*z_obj.get_pdf(z)\n"
   ]
  },
  {
   "cell_type": "markdown",
   "metadata": {},
   "source": [
    "Estimate the integral (Monte-carlo integration technique, scipy complained)"
   ]
  },
  {
   "cell_type": "code",
   "execution_count": 176,
   "metadata": {},
   "outputs": [],
   "source": [
    "import scipy.integrate as spi\n",
    "from typing import List\n",
    "\n",
    "def monte_carlo_integration(function, x_obj, y_obj, z_obj, num_samples=10000000):\n",
    "    \"\"\"\n",
    "    Estimate the integral of a function over a 3D domain using Monte Carlo integration. \n",
    "\n",
    "    Parameters:\n",
    "    - function: callable, the function to integrate. It should accept three arguments (x, y, z).\n",
    "    - bounds1: tuple, the lower and upper bounds for the first variable (x).\n",
    "    - bounds2: tuple, the lower and upper bounds for the second variable (y).\n",
    "    - bounds3: tuple, the lower and upper bounds for the third variable (z).\n",
    "    - num_samples: int, the number of random samples to use for the estimation (default: 1,000,000).\n",
    "\n",
    "    Returns:\n",
    "    - integral_estimate: float, the estimated value of the integral.\n",
    "    - standard_error: float, the estimated standard error of the integral.\n",
    "    \"\"\"\n",
    "    x_l, x_u = x_obj.lower, x_obj.upper\n",
    "    y_l, y_u = y_obj.lower, y_obj.upper\n",
    "    z_l, z_u = z_obj.lower, z_obj.upper\n",
    "\n",
    "    # Generate random samples\n",
    "    x_samples = np.random.uniform(x_l, x_u, num_samples)\n",
    "    y_samples = np.random.uniform(y_l, y_u, num_samples)\n",
    "    z_samples = np.random.uniform(z_l, z_u, num_samples)\n",
    "\n",
    "    # Evaluate the integrand at the sample points\n",
    "    sample_evaluations = np.array([function(x, y, z) for x, y, z in zip(x_samples, y_samples, z_samples)])\n",
    "\n",
    "    # Compute the volume of the integration region\n",
    "    volume = (x_u - x_l) * (y_u - y_l) * (z_u - z_l)\n",
    "\n",
    "    # Estimate the integral as the mean of the evaluations times the volume\n",
    "    integral_estimate = volume * np.mean(sample_evaluations)\n",
    "\n",
    "    # Compute the standard error of the mean\n",
    "    standard_error = volume * np.std(sample_evaluations) / np.sqrt(num_samples)\n",
    "\n",
    "    return integral_estimate, standard_error\n"
   ]
  },
  {
   "cell_type": "code",
   "execution_count": 177,
   "metadata": {},
   "outputs": [],
   "source": [
    "def get_isMax_estimate(chosen:Posterior, rest:List[Posterior]):\n",
    "    return monte_carlo_integration(lambda x,y,z: integrand(x, chosen, y, rest[0], z, rest[1]), \n",
    "                                                                  chosen, rest[0], rest[1])\n"
   ]
  },
  {
   "cell_type": "code",
   "execution_count": 178,
   "metadata": {},
   "outputs": [
    {
     "name": "stdout",
     "output_type": "stream",
     "text": [
      "IsMax of Aspirin\n",
      "Estimated integral: 0.45448460000000024\n",
      "Estimated standard error: 0.00015745546824745085\n"
     ]
    }
   ],
   "source": [
    "ismax_aspirin, standard_error_aspirin = get_isMax_estimate(aspirin_post, [placebo_post, caffeine_post])\n",
    "\n",
    "print(\"IsMax of Aspirin\")\n",
    "print(f\"Estimated integral: {integral_estimate_aspirin}\")\n",
    "print(f\"Estimated standard error: {standard_error_aspirin}\")"
   ]
  },
  {
   "cell_type": "code",
   "execution_count": 179,
   "metadata": {},
   "outputs": [
    {
     "name": "stdout",
     "output_type": "stream",
     "text": [
      "IsMax of Placebo\n",
      "Placebo integral: 0.3616113999999998\n",
      "Estimated standard error: 0.00015194614783713338\n"
     ]
    }
   ],
   "source": [
    "# same with placebo (this is zero since C_other would have the maximum posterior)\n",
    "ismax_placebo, standard_error_placebo = get_isMax_estimate(placebo_post, [caffeine_post, aspirin_post])\n",
    "print(\"IsMax of Placebo\")\n",
    "print(f\"Placebo integral: {integral_estimate_placebo}\")\n",
    "print(f\"Estimated standard error: {standard_error_placebo}\")"
   ]
  },
  {
   "cell_type": "code",
   "execution_count": 180,
   "metadata": {},
   "outputs": [
    {
     "name": "stdout",
     "output_type": "stream",
     "text": [
      "IsMax of Caffeine\n",
      "Caffeine integral: 0.0\n",
      "Estimated standard error: 0.0\n"
     ]
    }
   ],
   "source": [
    "ismax_caffeine, standard_error_caffiene = get_isMax_estimate(caffeine_post, [placebo_post, aspirin_post])\n",
    "print(\"IsMax of Caffeine\")\n",
    "print(f\"Caffeine integral: {integral_estimate_caffiene}\")\n",
    "print(f\"Estimated standard error: {standard_error_caffiene}\")"
   ]
  },
  {
   "cell_type": "code",
   "execution_count": 181,
   "metadata": {},
   "outputs": [
    {
     "name": "stdout",
     "output_type": "stream",
     "text": [
      "IsMax of C_other: 0.18387079999999956\n"
     ]
    }
   ],
   "source": [
    "ismax_other = 1 - np.sum([ismax_placebo, ismax_caffeine, ismax_aspirin])\n",
    "print(f\"IsMax of C_other: {ismax_other}\")"
   ]
  },
  {
   "cell_type": "markdown",
   "metadata": {},
   "source": [
    "### Calculating BER\n",
    "\n",
    "This example is small enough to directly calculate lower and upper bounds of BER with the summation form of Definition 4.3 (Sekeh et. al.) without the use of estimation techniques. (For more complex problems with many causes $|\\mathcal{O}| = 2^{|\\mathcal{C}|}$ may be very large, so it may be more practical apply the estimation techniques while treating the observations as continuous).\n",
    "\n",
    "$$\\epsilon = 1 - \\sum_{\\mathbf{x} \\in \\mathcal{O}} \\Pr(\\textbf{x})\\max_i \\Pr(C_i|\\textbf{x}).$$"
   ]
  },
  {
   "cell_type": "code",
   "execution_count": 182,
   "metadata": {},
   "outputs": [],
   "source": [
    "# define helpers\n",
    "def get_max(posteriors:List[float]):\n",
    "    # return maximum posterior (including M_other)\n",
    "    posteriors.append(1 - sum(posteriors)) # append remaining probability, should be very close to 0\n",
    "    return max(posteriors)\n",
    "\n",
    "\n",
    "def get_posteriors(i:int, j:int, cause_objs:List[Cause], upper:bool):\n",
    "    # get list of poteriors for the [i,j] observation vector\n",
    "    posteriors = []\n",
    "    for cause in cause_objs:\n",
    "        posterior_obj = cause.posteriors[i][j]\n",
    "        if upper:\n",
    "            posteriors.append(posterior_obj.upper)\n",
    "        else:\n",
    "            posteriors.append(posterior_obj.lower)\n",
    "    return posteriors    \n"
   ]
  },
  {
   "cell_type": "markdown",
   "metadata": {},
   "source": [
    "Upper bound of BER"
   ]
  },
  {
   "cell_type": "code",
   "execution_count": 183,
   "metadata": {},
   "outputs": [
    {
     "name": "stdout",
     "output_type": "stream",
     "text": [
      "BER upper bounds: 0.22999999999999998\n"
     ]
    }
   ],
   "source": [
    "ber_upper = 1 - sum([EVIDENCE_DIST[i][j]*get_max(get_posteriors(i,j, [aspirin, placebo, caffeine], \n",
    "                                                                upper=True)) \n",
    "                                                                for i in [0,1] for j in [0,1]])\n",
    "print(f\"BER upper bounds: {ber_upper}\")"
   ]
  },
  {
   "cell_type": "code",
   "execution_count": 184,
   "metadata": {},
   "outputs": [
    {
     "name": "stdout",
     "output_type": "stream",
     "text": [
      "BER lower bounds: 0.21699999999999997\n"
     ]
    }
   ],
   "source": [
    "ber_lower = 1 - sum([EVIDENCE_DIST[i][j]*get_max(get_posteriors(i,j, [aspirin, placebo, caffeine], \n",
    "                                                                upper=False)) \n",
    "                                                                for i in [0,1] for j in [0,1]])\n",
    "print(f\"BER lower bounds: {ber_lower}\")"
   ]
  },
  {
   "cell_type": "markdown",
   "metadata": {},
   "source": [
    "### Calculate Abductive Error Guarantees\n",
    "Now that we have $\\epsilon_{lower}$, $\\epsilon_{upper}$, and the IsMax values for all possible causes, we can follow section 4.3 to find the final general error rate bounds."
   ]
  },
  {
   "cell_type": "markdown",
   "metadata": {},
   "source": [
    "Calculate $\\gamma_{i,upper}$ and $\\gamma_{i,lower}$ for each cause, the error rate (when posterior $M_i$ is chosen) given the assumption that posteriors lie in their 95% confidence intervals.\n",
    "$$\n",
    "    \\gamma_{i,upper} = \\epsilon_{\\text{upper}}\\Pr(IsMax(M_i)) + (1-l_i)(1-\\Pr(IsMax(M_i)))\n",
    "$$\n",
    "\n",
    "and\n",
    "\n",
    "$$\n",
    "\\gamma_{i,lower} = \\epsilon_{\\text{lower}}\\Pr(IsMax (M_i)) + (1-u_i)(1-\\Pr(IsMax(M_i)))\n",
    "$$"
   ]
  },
  {
   "cell_type": "markdown",
   "metadata": {},
   "source": [
    "Set the preferred observation vector."
   ]
  },
  {
   "cell_type": "code",
   "execution_count": 194,
   "metadata": {},
   "outputs": [],
   "source": [
    "pill = 1 # did you take a pill?\n",
    "relief = 0 # was your headache relieved?"
   ]
  },
  {
   "cell_type": "code",
   "execution_count": 200,
   "metadata": {},
   "outputs": [
    {
     "name": "stdout",
     "output_type": "stream",
     "text": [
      "{'aspirin': 0.5591680479999996, 'caffeine': 1.0, 'placebo': 0.508719268}\n",
      "{'aspirin': 0.3532137391999999, 'caffeine': 0.9333333333333333, 'placebo': 0.4614644572}\n"
     ]
    }
   ],
   "source": [
    "# maps cause object to probability of wrong abduction and posterior is maximum\n",
    "gamma_upper = {\n",
    "    \"aspirin\"  : ber_upper*ismax_aspirin + \n",
    "                (1-aspirin.posteriors[pill][relief].lower)*(1-ismax_aspirin),\n",
    "    \"caffeine\" : ber_upper*ismax_caffeine + \n",
    "                (1-caffeine.posteriors[pill][relief].lower)*(1-ismax_caffeine),\n",
    "    \"placebo\"  : ber_upper*ismax_placebo + \n",
    "                (1-placebo.posteriors[pill][relief].lower)*(1-ismax_placebo),\n",
    "    } \n",
    "\n",
    "gamma_lower = {\n",
    "    \"aspirin\"  : ber_lower*ismax_aspirin + \n",
    "                (1-aspirin.posteriors[pill][relief].upper)*(1-ismax_aspirin),\n",
    "    \"caffeine\" : ber_lower*ismax_caffeine + \n",
    "                (1-caffeine.posteriors[pill][relief].upper)*(1-ismax_caffeine),\n",
    "    \"placebo\"  : ber_lower*ismax_placebo + \n",
    "                (1-placebo.posteriors[pill][relief].upper)*(1-ismax_placebo),\n",
    "    } \n",
    "\n",
    "\n",
    "print(gamma_upper)\n",
    "print(gamma_lower)"
   ]
  },
  {
   "cell_type": "markdown",
   "metadata": {},
   "source": [
    "Referring to the diagram of posterior bounds, causes \"aspirin\" and \"placebo\" have error rates around 50% because they are tied winners with close midpoints, and so either cause may be the true maximum posterior. Caffeine has an extremely high error rate because if it is contained inside its 95% bounds, it has no chance of being the maximum posterior."
   ]
  },
  {
   "cell_type": "markdown",
   "metadata": {},
   "source": [
    "Compute the final bounds.\n",
    "\n",
    "$$\\Pr(W)\\leq 1-q^k(1-\\gamma_{\\text{i, upper}})$$\n",
    "\n",
    "$$\\Pr(W)\\geq \\gamma_{\\text{i, lower}} q^k$$"
   ]
  },
  {
   "cell_type": "code",
   "execution_count": 210,
   "metadata": {},
   "outputs": [
    {
     "name": "stdout",
     "output_type": "stream",
     "text": [
      "General upper bounds of: [1, 0]\n",
      " {'aspirin': 0.6220417051539997, 'caffeine': 1.0, 'placebo': 0.5787881824015}\n",
      "General lower bounds: [1, 0]\n",
      " {'aspirin': 0.47941670515399964, 'caffeine': 0.8573749999999999, 'placebo': 0.4361631824014999}\n"
     ]
    }
   ],
   "source": [
    "\n",
    "k = 3 # there are 3 selected causes\n",
    "general_upper = {key : 1-(Q_CONFIDENCE**k)*(1-gamma_bound) for key, gamma_bound in gamma_upper.items()}\n",
    "\n",
    "general_lower = {key : gamma_bound*Q_CONFIDENCE**k for key, gamma_bound in gamma_upper.items()}\n",
    "\n",
    "\n",
    "print(f\"General upper bounds of: {[pill, relief]}\\n\", general_upper)\n",
    "print(f\"General lower bounds: {[pill, relief]}\\n\", general_lower)\n"
   ]
  },
  {
   "cell_type": "markdown",
   "metadata": {},
   "source": []
  },
  {
   "cell_type": "markdown",
   "metadata": {},
   "source": [
    "We can do the same for all other observation vectors"
   ]
  },
  {
   "cell_type": "code",
   "execution_count": 220,
   "metadata": {},
   "outputs": [],
   "source": [
    "def get_general_bounds(pill, relief):\n",
    "    gamma_upper = {\n",
    "        \"aspirin\"  : ber_upper*ismax_aspirin + \n",
    "                    (1-aspirin.posteriors[pill][relief].lower)*(1-ismax_aspirin),\n",
    "        \"caffeine\" : ber_upper*ismax_caffeine + \n",
    "                    (1-caffeine.posteriors[pill][relief].lower)*(1-ismax_caffeine),\n",
    "        \"placebo\"  : ber_upper*ismax_placebo + \n",
    "                    (1-placebo.posteriors[pill][relief].lower)*(1-ismax_placebo),\n",
    "        } \n",
    "\n",
    "    gamma_lower = {\n",
    "        \"aspirin\"  : ber_lower*ismax_aspirin + \n",
    "                    (1-aspirin.posteriors[pill][relief].upper)*(1-ismax_aspirin),\n",
    "        \"caffeine\" : ber_lower*ismax_caffeine + \n",
    "                    (1-caffeine.posteriors[pill][relief].upper)*(1-ismax_caffeine),\n",
    "        \"placebo\"  : ber_lower*ismax_placebo + \n",
    "                    (1-placebo.posteriors[pill][relief].upper)*(1-ismax_placebo),\n",
    "        } \n",
    "\n",
    "\n",
    "    k = 3 # there are 3 selected causes\n",
    "    general_upper = {key : 1-(Q_CONFIDENCE**k)*(1-gamma_bound) for key, gamma_bound in gamma_upper.items()}\n",
    "\n",
    "    general_lower = {key : gamma_bound*Q_CONFIDENCE**k for key, gamma_bound in gamma_upper.items()}\n",
    "\n",
    "\n",
    "    print(f\"General upper bounds of {[pill, relief]}\\n\", general_upper)\n",
    "    print(f\"General lower bounds {[pill, relief]}\\n\", general_lower)\n",
    "    return # general_upper, general_lower"
   ]
  },
  {
   "cell_type": "code",
   "execution_count": 221,
   "metadata": {},
   "outputs": [
    {
     "name": "stdout",
     "output_type": "stream",
     "text": [
      "General upper bounds of [0, 0]\n",
      " {'aspirin': 0.6922070116839998, 'caffeine': 0.9428416666666667, 'placebo': 0.7575573379385001}\n",
      "General lower bounds [0, 0]\n",
      " {'aspirin': 0.5495820116839996, 'caffeine': 0.8002166666666666, 'placebo': 0.6149323379385}\n"
     ]
    }
   ],
   "source": [
    "get_general_bounds(0,0)"
   ]
  },
  {
   "cell_type": "code",
   "execution_count": 222,
   "metadata": {},
   "outputs": [
    {
     "name": "stdout",
     "output_type": "stream",
     "text": [
      "General upper bounds of [0, 1]\n",
      " {'aspirin': 0.7000031568539997, 'caffeine': 0.9142625, 'placebo': 0.7612056880515}\n",
      "General lower bounds [0, 1]\n",
      " {'aspirin': 0.5573781568539996, 'caffeine': 0.7716374999999999, 'placebo': 0.6185806880514999}\n"
     ]
    }
   ],
   "source": [
    "get_general_bounds(0,1)"
   ]
  },
  {
   "cell_type": "code",
   "execution_count": 223,
   "metadata": {},
   "outputs": [
    {
     "name": "stdout",
     "output_type": "stream",
     "text": [
      "General upper bounds of [1, 1]\n",
      " {'aspirin': 0.6064494148139998, 'caffeine': 0.99142625, 'placebo': 0.7557331628820001}\n",
      "General lower bounds [1, 1]\n",
      " {'aspirin': 0.4638244148139997, 'caffeine': 0.8488012499999998, 'placebo': 0.613108162882}\n"
     ]
    }
   ],
   "source": [
    "get_general_bounds(1,1)"
   ]
  }
 ],
 "metadata": {
  "kernelspec": {
   "display_name": "Python 3",
   "language": "python",
   "name": "python3"
  },
  "language_info": {
   "codemirror_mode": {
    "name": "ipython",
    "version": 3
   },
   "file_extension": ".py",
   "mimetype": "text/x-python",
   "name": "python",
   "nbconvert_exporter": "python",
   "pygments_lexer": "ipython3",
   "version": "3.8.9"
  }
 },
 "nbformat": 4,
 "nbformat_minor": 2
}
