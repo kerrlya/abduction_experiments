{
 "cells": [
  {
   "cell_type": "markdown",
   "metadata": {},
   "source": [
    "# Simple Example for Section 4 Bounds\n",
    "\n",
    "This is a simple example of computing the bounds in section 4 (theorems 4.8 and 4.9) with $\\dim(\\mathcal{O}) = 2$ with features [\"pill taken?\", \"headache relief?\"] and three selected possible causes: [\"aspirin\",\"caffeine\", \"placebo\"]. We derive bounds for all three possible causes.\n",
    "\n",
    "To help with intuition, this example uses normalized posterior probabilities (i.e., $\\Pr(\\mathbf{x})$ in the denominator), but produces the same results as the ranking is the same.\n",
    "\n",
    "### Define Setup\n",
    "\n"
   ]
  },
  {
   "cell_type": "code",
   "execution_count": 564,
   "metadata": {},
   "outputs": [],
   "source": [
    "from typing import List\n",
    "import numpy as np\n",
    "import numpy as np\n",
    "from scipy.stats import uniform # this can easily be switched for another distribution\n",
    "import matplotlib.pyplot as plt\n",
    "import seaborn as sns\n",
    "import matplotlib.pyplot as plt\n",
    "\n",
    "\n",
    "def show_heatmap(data, title):\n",
    "    # Create the heat map\n",
    "    sns.heatmap(data, annot=True, cmap='viridis')\n",
    "    # Display the plot\n",
    "    plt.title(title)\n",
    "    plt.show()\n",
    "    return\n",
    "\n",
    "\n",
    "class Posterior:\n",
    "    def __init__(self,lower:float, upper:float, color:str, name:str, distribution_type=\"uniform\") -> None:\n",
    "        self.lower = lower\n",
    "        self.upper = upper\n",
    "        self.color = color\n",
    "        self.name = name\n",
    "        self.distribution_type = distribution_type\n",
    "        self.rv = self.make_rv()  # random variable representation\n",
    "        return\n",
    "    def get_bounds(self):\n",
    "        return [self.lower, self.upper]\n",
    "    \n",
    "    def make_rv(self): \n",
    "        if self.distribution_type == \"uniform\":\n",
    "            return uniform(loc=self.lower, scale=self.upper-self.lower)#1/(self.upper - self.lower)\n",
    "        else:\n",
    "            return ValueError(\"No other methods supported\")\n",
    "    def get_pdf(self, x):\n",
    "        return self.rv.pdf(x)\n",
    "        \n",
    "class Cause:\n",
    "    def __init__(self, name:str, likelihood_dist_l:List[List[float]], likelihood_dist_u:List[List[float]], \n",
    "                 prior_l:float, prior_u:float, evidence_dist:List[List[float]]) -> None:\n",
    "        self.name = name\n",
    "        self.likelihood_dist_l = likelihood_dist_l\n",
    "        self.likelihood_dist_u = likelihood_dist_u\n",
    "        self.prior_l = prior_l\n",
    "        self.prior_u = prior_u\n",
    "        self.evidence_dist = evidence_dist\n",
    "        self.posteriors = self.populate_posteriors() # array of posterior objects for every observation vect\n",
    "        \n",
    "        return \n",
    "    def populate_posteriors(self):\n",
    "        posteriors = [[None,None],[None,None]]\n",
    "        for i in [0,1]:\n",
    "            for j in [0,1]:\n",
    "                lower_posterior = self.likelihood_dist_l[i][j]*self.prior_l/self.evidence_dist[i][j]\n",
    "                upper_posterior = self.likelihood_dist_u[i][j]*self.prior_u/self.evidence_dist[i][j]\n",
    "                posteriors[i][j] = Posterior(lower=lower_posterior,\n",
    "                                                  upper=upper_posterior,\n",
    "                                                  color=\"blue\",\n",
    "                                                  name=f\"{self.name}\")\n",
    "        return  posteriors\n",
    "    def display_posteriors(self):\n",
    "        # print(f\"Lower posteriors of cause {self.name}:\")\n",
    "        show_heatmap([[self.posteriors[0][0].lower, self.posteriors[0][1].lower], \n",
    "              [self.posteriors[1][0].lower, self.posteriors[1][1].lower]], \n",
    "              f\"Lower Posterior Distribution of '{self.name}'\")\n",
    "        \n",
    "        show_heatmap([[self.posteriors[0][0].upper, self.posteriors[0][1].upper], \n",
    "              [self.posteriors[1][0].upper, self.posteriors[1][1].upper]], \n",
    "              f\"Upper Posterior Distribution of '{self.name}'\")\n",
    "  \n",
    "        return\n",
    "    \n",
    "\n",
    "\n",
    "\n"
   ]
  },
  {
   "cell_type": "markdown",
   "metadata": {},
   "source": [
    "Create evidence distribution. Indices of the evidence distribution are as follows\n",
    "\n",
    "- (0,0)=(no pill taken, no headache relieved)\n",
    "- (0,1)=(no pill taken, headache relieved)\n",
    "\n",
    "- (1,0)=(pill taken,  no headache relieved) \n",
    "- (1,1)=(pill taken, headache relieved)\n",
    "\n",
    "This is the only fixed probability assumed."
   ]
  },
  {
   "cell_type": "code",
   "execution_count": 565,
   "metadata": {},
   "outputs": [
    {
     "data": {
      "image/png": "[encoded data removed]",
      "text/plain": [
       "<Figure size 432x288 with 2 Axes>"
      ]
     },
     "metadata": {
      "needs_background": "light"
     },
     "output_type": "display_data"
    }
   ],
   "source": [
    "import seaborn as sns\n",
    "import matplotlib.pyplot as plt\n",
    "\n",
    "\n",
    "def show_heatmap(data, title):\n",
    "    # Create the heat map\n",
    "    sns.heatmap(data, annot=True, cmap='viridis')\n",
    "    # Display the plot\n",
    "    plt.title(title)\n",
    "    plt.show()\n",
    "    return\n",
    "\n",
    "EVIDENCE_DIST = [[0.3, 0.05],\n",
    "                 [0.15, 0.5]]\n",
    "show_heatmap(EVIDENCE_DIST, \"Evidence Probabilities\")\n",
    "Q_CONFIDENCE = 0.95"
   ]
  },
  {
   "cell_type": "markdown",
   "metadata": {},
   "source": [
    "Declare likelihood and prior ranges for each each cause: Aspirin, Placebo Pill, Caffeine."
   ]
  },
  {
   "cell_type": "code",
   "execution_count": 566,
   "metadata": {},
   "outputs": [
    {
     "data": {
      "image/png": "[encoded data removed]",
      "text/plain": [
       "<Figure size 432x288 with 2 Axes>"
      ]
     },
     "metadata": {
      "needs_background": "light"
     },
     "output_type": "display_data"
    },
    {
     "data": {
      "image/png": "[encoded data removed]",
      "text/plain": [
       "<Figure size 432x288 with 2 Axes>"
      ]
     },
     "metadata": {
      "needs_background": "light"
     },
     "output_type": "display_data"
    }
   ],
   "source": [
    "# aspirin\n",
    "aspirin_likelihood_u = np.array([[0.03,0.007],\n",
    "                                  [0.08,0.4]])/0.517\n",
    "aspirin_likelihood_l = [[0.02,0.006],\n",
    "                        [0.13125,0.4]]\n",
    "aspirin_prior_l = 0.4\n",
    "aspirin_prior_u = 0.517\n",
    "\n",
    "aspirin = Cause(name=\"aspirin\",\n",
    "                likelihood_dist_l=aspirin_likelihood_l, \n",
    "                likelihood_dist_u=aspirin_likelihood_u,\n",
    "                prior_l=aspirin_prior_l,\n",
    "                prior_u=aspirin_prior_u,\n",
    "                evidence_dist=EVIDENCE_DIST)\n",
    "\n",
    "\n",
    "aspirin.display_posteriors()\n",
    "\n",
    "\n",
    "# show_heatmap(aspirin_likelihood_l, \"Aspirin Likelihood Distribution (Lower)\")\n",
    "# show_heatmap(aspirin_likelihood_u, \"Aspirin Likelihood Distribution (Upper)\")"
   ]
  },
  {
   "cell_type": "code",
   "execution_count": 567,
   "metadata": {},
   "outputs": [
    {
     "data": {
      "image/png": "[encoded data removed]",
      "text/plain": [
       "<Figure size 432x288 with 2 Axes>"
      ]
     },
     "metadata": {
      "needs_background": "light"
     },
     "output_type": "display_data"
    },
    {
     "data": {
      "image/png": "[encoded data removed]",
      "text/plain": [
       "<Figure size 432x288 with 2 Axes>"
      ]
     },
     "metadata": {
      "needs_background": "light"
     },
     "output_type": "display_data"
    }
   ],
   "source": [
    "# placebo\n",
    "# (0,0)=(no pill taken, no headache relieved) | (0,1)=(no pill taken, headache relieved)\n",
    "# (1,0)=(pill taken,  no headache relieved)   | (1,1)=(pill taken, headache relieved)\n",
    "\n",
    "placebo_likelihood_u = np.array([[0.02,0.003],\n",
    "                        [0.06,0.03]])/0.113\n",
    "placebo_likelihood_l = [[0.02,0.002],\n",
    "                        [0.5,0.025]]\n",
    "placebo_prior_l = 0.1\n",
    "placebo_prior_u = 0.113\n",
    "\n",
    "placebo = Cause(name=\"placebo\",\n",
    "                likelihood_dist_l=placebo_likelihood_l, \n",
    "                likelihood_dist_u=placebo_likelihood_u,\n",
    "                prior_l=placebo_prior_l,\n",
    "                prior_u=placebo_prior_u,\n",
    "                evidence_dist=EVIDENCE_DIST)\n",
    "\n",
    "\n",
    "placebo.display_posteriors()\n",
    "# show_heatmap(placebo_likelihood_l, \"Placebo Likelihood Distribution (Lower)\")\n",
    "# show_heatmap(placebo_likelihood_u, \"Placebo Likelihood Distribution (Upper)\")"
   ]
  },
  {
   "cell_type": "code",
   "execution_count": 568,
   "metadata": {},
   "outputs": [
    {
     "data": {
      "image/png": "[encoded data removed]",
      "text/plain": [
       "<Figure size 432x288 with 2 Axes>"
      ]
     },
     "metadata": {
      "needs_background": "light"
     },
     "output_type": "display_data"
    },
    {
     "data": {
      "image/png": "[encoded data removed]",
      "text/plain": [
       "<Figure size 432x288 with 2 Axes>"
      ]
     },
     "metadata": {
      "needs_background": "light"
     },
     "output_type": "display_data"
    }
   ],
   "source": [
    "# caffeine\n",
    "# (0,0)=(no pill taken, no headache relieved) | (0,1)=(no pill taken, headache relieved)\n",
    "# (1,0)=(pill taken,  no headache relieved)   | (1,1)=(pill taken, headache relieved)\n",
    "\n",
    "caffeine_likelihood_u = np.array([[0.25,0.04],        # began with posteriors for toy example\n",
    "                                  [0.01,0.07]])/0.37\n",
    "\n",
    "caffeine_likelihood_l = [[0.6,0.09],\n",
    "                        [0.005,0.1]]\n",
    "caffeine_prior_l = 0.32\n",
    "caffeine_prior_u = 0.37\n",
    "\n",
    "caffeine = Cause(name=\"caffeine\",\n",
    "                likelihood_dist_l=caffeine_likelihood_l, \n",
    "                likelihood_dist_u=caffeine_likelihood_u,\n",
    "                prior_l=caffeine_prior_l,\n",
    "                prior_u=caffeine_prior_u,\n",
    "                evidence_dist=EVIDENCE_DIST)\n",
    "\n",
    "\n",
    "caffeine.display_posteriors()\n",
    "\n",
    "# show_heatmap(caffeine_likelihood_l, \"Caffeine Likelihood Distribution (Lower)\")\n",
    "# show_heatmap(caffeine_likelihood_u, \"Caffeine Likelihood Distribution (Upper)\")"
   ]
  },
  {
   "cell_type": "markdown",
   "metadata": {},
   "source": [
    "Verify that sum of upper bounds of posteriors are less than or equal to 1. "
   ]
  },
  {
   "cell_type": "code",
   "execution_count": 569,
   "metadata": {},
   "outputs": [
    {
     "name": "stdout",
     "output_type": "stream",
     "text": [
      "1.0\n",
      "0.9999999999999999\n",
      "1.0\n",
      "1.0\n"
     ]
    }
   ],
   "source": [
    "for i in [0,1]:\n",
    "    for j in [0,1]:\n",
    "        print(caffeine.posteriors[i][j].upper+placebo.posteriors[i][j].upper+aspirin.posteriors[i][j].upper)\n"
   ]
  },
  {
   "cell_type": "markdown",
   "metadata": {},
   "source": [
    "Define posteriors for given observation vector."
   ]
  },
  {
   "cell_type": "code",
   "execution_count": 570,
   "metadata": {},
   "outputs": [],
   "source": [
    "# define observation vector\n",
    "pill = 1 # pill is present\n",
    "relief = 0 # headache not relieved\n",
    "\n",
    "\n",
    "aspirin_post = aspirin.posteriors[pill][relief]\n",
    "placebo_post = placebo.posteriors[pill][relief]\n",
    "caffeine_post = caffeine.posteriors[pill][relief]\n",
    "\n",
    "aspirin_post.color = \"red\"\n",
    "caffeine_post.color = \"orange\"\n",
    "\n",
    "posteriors = [aspirin_post,\n",
    "              placebo_post,\n",
    "              caffeine_post]"
   ]
  },
  {
   "cell_type": "markdown",
   "metadata": {},
   "source": [
    "Plot the 95% confidence posterior ranges."
   ]
  },
  {
   "cell_type": "code",
   "execution_count": 571,
   "metadata": {},
   "outputs": [
    {
     "data": {
      "text/plain": [
       "<matplotlib.legend.Legend at 0x1479452b0>"
      ]
     },
     "execution_count": 571,
     "metadata": {},
     "output_type": "execute_result"
    },
    {
     "data": {
      "image/png": "[encoded data removed]",
      "text/plain": [
       "<Figure size 432x288 with 1 Axes>"
      ]
     },
     "metadata": {
      "needs_background": "light"
     },
     "output_type": "display_data"
    }
   ],
   "source": [
    "import matplotlib.pyplot as plt\n",
    "import numpy as np\n",
    "\n",
    "# Create a figure and axis\n",
    "fig, ax = plt.subplots()\n",
    "bar_width = 0.3\n",
    "\n",
    "# Plot the first horizontal line (stick) with confidence interval\n",
    "\n",
    "count = 1 # determines y-position on graph\n",
    "\n",
    "upper_bounds = []\n",
    "lower_bounds = []\n",
    "for posterior in posteriors:\n",
    "    upper_bounds.append(posterior.upper)\n",
    "    lower_bounds.append(posterior.lower)\n",
    "\n",
    "    ax.plot([posterior.lower, posterior.upper], \n",
    "            [count, count], label=posterior.name, color=posterior.color)\n",
    "    ax.fill_betweenx([count - bar_width, count + bar_width], posterior.lower, posterior.upper,\n",
    "                      color=posterior.color, alpha=0.2)\n",
    "\n",
    "    count += 1 # increment height\n",
    "\n",
    "# Add labels and title\n",
    "ax.set_xlabel('Posterior probability')\n",
    "ax.set_yticks([1, 2, 3])\n",
    "ax.set_yticklabels([posterior.name for posterior in posteriors])\n",
    "ax.set_title(f\"Posterior Confidence Bounds for Observation {[pill, relief]}\")\n",
    "\n",
    "# Add a legend\n",
    "ax.legend()"
   ]
  },
  {
   "cell_type": "markdown",
   "metadata": {},
   "source": [
    "Get highest upper bound and lower bound"
   ]
  },
  {
   "cell_type": "code",
   "execution_count": 572,
   "metadata": {},
   "outputs": [
    {
     "name": "stdout",
     "output_type": "stream",
     "text": [
      "u: 0.5333333333333333\n",
      "l: 0.35000000000000003\n"
     ]
    }
   ],
   "source": [
    "u = max(upper_bounds)\n",
    "l = max(lower_bounds)\n",
    "print(f\"u: {u}\\nl: {l}\")\n",
    "\n",
    "# print(aspirin_post.get_pdf(0.6))\n",
    "\n",
    "# 1/(0.53-0.17)"
   ]
  },
  {
   "cell_type": "markdown",
   "metadata": {},
   "source": [
    "### Brute Force way of Finding IsMax \n",
    "This method is more expensive, but does not require that C_other is guaranteed not to be the maximum posterior. \n",
    "\n",
    "Note that in this experiment we use normalized posteriors for intuition $M_i = \\frac{\\Pr(C_i|\\mathbf{x})\\Pr(C_i)}{\\Pr(x)}$ for intution, and so the posteriors sum up to 1.\n",
    "\n",
    "Theorem 4.2 makes no assumptions about the placement of the upper and lower posterior bounds. If the upper posteriors bounds do not exceed $1$, the posteriors of selected causes are independent, leaving any remaining probability to the (dependent) last cause, $C_{other}$. (One could use a similar method if the sum of upper posteriors exceeded 1, but formulating the probability density function would require additional steps. We went with the easier approach since this example is for intuition.)\n",
    "\n",
    "Here's the reasoning:\n",
    "\n",
    "<u> Independence of Posteriors </u>:\n",
    "\n",
    "\n",
    "Suppose we have $k$ posteriors (this includes $M_{other}$, the combined posterior that anything not in our selected 'causes' was the cause). Treat each $M_i \\in \\mathcal{M}$ as a random variable.\n",
    "Then, **if the sum of upper bounds of every posterior in $\\mathcal{M}$ does not exceed 1 (or $\\Pr(\\mathbf{x})$)**, we can let the first $k-1$ causes be independent (because of this upper bound, selecting *any* random posteriors within this range and adding them up will *never* exceed $\\Pr(\\mathbf{x})$) while the last posterior, $M_{other}$, is a fully dependent random variable $M_{other} = 1-\\sum_i{M_i}$ (or  $M_{other} = \\Pr(\\mathbf{x})-\\sum_i{M_i}$). \n",
    "\n",
    "<u> Pr(IsMax(M_i)) is just expected value of an indicator function </u>:\n",
    "\n",
    "For simplicity let $X$, $Y$, $Z$, ... be the chosen (independent) posterior random variables, and let $x$, $y$, and $z$ be the specific values they take on. Also, suppose we are finding the probability that $X$ is the maximum posterior. Then, let this be the indicator function that x is the maximum.\n",
    "$$\n",
    "\\mathbf{1}_{\\{{x}_{max}\\}}(x,y,z) = \\begin{cases} \n",
    "1 & \\text{if } x = \\max(\\{x,y,z,1-(x+y+z)\\}) \\\\ \n",
    "0 & \\text{otherwise }\n",
    "\\end{cases}\n",
    "$$\n",
    "\n",
    "The expected value of this indicator function basically is the same value as (1) tallying up the total number of configurations of $x$, $y$, $z$, (and $(1-x-y-z)$) where $x$ is the maximum, and then (2) dividing it by the total number of configurations of $x$, $y$, and $z$. This is the same thing as the probability that $X=x$ is the maximum.\n",
    "\n",
    "We can find this with LOTUS:\n",
    "\n",
    "$$\n",
    "\\begin{align*}\n",
    "\\Pr(IsMax(X)) &= \\int_{x_l}^{x_u} \\int_{y_l}^{y_u} \\int_{z_l}^{z_u} \\mathbf{1}_{\\{{x}_{max}\\}}(x,y,z)f(x, y, z) \\, dz \\, dy \\, dx\\\\\n",
    "&= \\int_{x_l}^{x_u} \\int_{y_l}^{y_u} \\int_{z_l}^{z_u} \\mathbf{1}_{\\{{x}_{max}\\}}(x,y,z)f(x)f(y)f(z) \\, dz \\, dy \\, dx\\\\\n",
    "\\end{align*}\n",
    "$$\n"
   ]
  },
  {
   "cell_type": "markdown",
   "metadata": {},
   "source": [
    "### Alternative way to find IsMax with optimized form\n",
    "This method is less computationally expensive, but requires that $C_other$ is not the maximum posterior.\n",
    "$$\n",
    "\\begin{align*}\n",
    "\\Pr(IsMax(M_i)) &= \\int_{l}^{u} {P\\left(M_i = x,\\!\\!\\! \\bigcap_{\\substack{M_j \\in \\mathcal M',\\\\ C_j\\neq C_i}}{\\!\\!\\!(M_j<x)}\\right)}dx\\\\\n",
    "&= \\int_{l}^{u} P(M_i = x) \\prod_{j \\neq i}^N[\\mathbb{1}_{l_j \\le x} \\int_{l_i}^x f_{M_j}(y)dy]dx\n",
    "\n",
    "\\end{align*}\n",
    "$$"
   ]
  },
  {
   "cell_type": "markdown",
   "metadata": {},
   "source": [
    "Let's see what $C_{other}$ looks like, which is the random variable $C_{other} = 1 - \\sum_{M_i \\neq M_{other}} M_i$. We can estimate this with sampling or with convolution libraries in SciPy. Here we will use sampling."
   ]
  },
  {
   "cell_type": "code",
   "execution_count": 573,
   "metadata": {},
   "outputs": [
    {
     "data": {
      "image/png": "[encoded data removed]",
      "text/plain": [
       "<Figure size 432x288 with 1 Axes>"
      ]
     },
     "metadata": {
      "needs_background": "light"
     },
     "output_type": "display_data"
    }
   ],
   "source": [
    "import numpy as np\n",
    "import matplotlib.pyplot as plt\n",
    "from scipy.signal import fftconvolve\n",
    "from scipy.stats import norm, gaussian_kde\n",
    "\n",
    "\n",
    "# Define the distributions for x, y, and z\n",
    "rv_x = aspirin_post.rv#norm(loc=0, scale=1)  # Normal distribution with mean=0 and std=1\n",
    "rv_y = caffeine_post.rv#norm(loc=1, scale=2)  # Normal distribution with mean=1 and std=2\n",
    "rv_z = placebo_post.rv#norm(loc=-1, scale=0.5)  # Normal distribution with mean=-1 and std=0.5\n",
    "\n",
    "# Generate samples\n",
    "n_samples = 100000\n",
    "samples_aspirin = aspirin_post.rv.rvs(size=n_samples)\n",
    "samples_caffeine = caffeine_post.rv.rvs(size=n_samples)\n",
    "samples_placebo = placebo_post.rv.rvs(size=n_samples)\n",
    "\n",
    "# Compute the new random variable 1 - (x + y + z)\n",
    "samples_new = 1 - (samples_aspirin + samples_caffeine + samples_placebo)\n",
    "\n",
    "# Approximate the pdf using a kernel density estimate\n",
    "pdf_other = gaussian_kde(samples_new)\n",
    "x_grid = np.linspace(min(samples_new), max(samples_new), 1000)\n",
    "display_pdf = pdf_other(x_grid)\n",
    "\n",
    "# Plot the approximate pdf\n",
    "plt.plot(x_grid, display_pdf, label='PDF of 1 - (x + y + z)')\n",
    "plt.xlabel('Value')\n",
    "plt.ylabel('Density')\n",
    "plt.legend()\n",
    "plt.show()\n"
   ]
  },
  {
   "cell_type": "markdown",
   "metadata": {},
   "source": [
    "\n",
    "Create a posterior object with this distribution."
   ]
  },
  {
   "cell_type": "code",
   "execution_count": 574,
   "metadata": {},
   "outputs": [
    {
     "name": "stdout",
     "output_type": "stream",
     "text": [
      "0.0 0.30599999999999994\n"
     ]
    }
   ],
   "source": [
    "# Verify the upper and lower bounds of this pdf\n",
    "other_lower = 1 - (aspirin_post.upper + placebo_post.upper + caffeine_post.upper)\n",
    "other_upper = 1 - (aspirin_post.lower + placebo_post.lower + caffeine_post.lower)\n",
    "print(other_lower, other_upper) \n",
    "\n",
    "M_other = Posterior(lower=0,upper=0.5,color=\"red\", name=\"other\")\n",
    "M_other.pdf = pdf_other"
   ]
  },
  {
   "cell_type": "markdown",
   "metadata": {},
   "source": [
    "Since the upper bound of M_other is lower than the lower bounds of aspirin and the placebo, M_other can never be the maximum posterior, and we can use the following straightforward derivation of $\\Pr(IsMax(M_i))$"
   ]
  },
  {
   "cell_type": "markdown",
   "metadata": {},
   "source": [
    "Compute the integral\n",
    "$$\n",
    "\\begin{align*}\n",
    "\\Pr(IsMax(M_i)) &= \\int_{l}^{u} {P\\left(M_i = x,\\!\\!\\! \\bigcap_{\\substack{M_j \\in \\mathcal M',\\\\ C_j\\neq C_i}}{\\!\\!\\!(M_j<x)}\\right)}dx\\\\\n",
    "&= \\int_{l}^{u} P(M_i = x) \\prod_{j \\neq i}^N[\\mathbb{1}_{l_j \\le x} \\int_{l_j}^x f_{M_j}(y)dy]dx\n",
    "\n",
    "\\end{align*}\n",
    "$$"
   ]
  },
  {
   "cell_type": "code",
   "execution_count": 575,
   "metadata": {},
   "outputs": [],
   "source": [
    "import scipy.integrate as integrate\n",
    "\n",
    "def prob_all_lower(x:float, other_posteriors:List[Posterior]) -> float:\n",
    "    # get prob that all other posteriors are lower (product summation on right)\n",
    "    prob_all_lower = 1\n",
    "    for alt_posterior in other_posteriors:\n",
    "        # find probability alt_posterior is lower than x\n",
    "\n",
    "        if alt_posterior.lower < x or alt_posterior.lower == x:\n",
    "            # if the lower bound is lower than x, it has a shot at being lower\n",
    "            inner_inner_function = lambda y: alt_posterior.get_pdf(y) # integrate over y            \n",
    "            prob_lower, _ = integrate.quad(inner_inner_function, alt_posterior.lower, x)\n",
    "        else:\n",
    "            # if the lower bound is not lower than x, it cannot be lower\n",
    "            prob_lower = 0\n",
    "            break # no point in calculating the rest\n",
    "\n",
    "        prob_all_lower *= prob_lower\n",
    "    return prob_all_lower\n",
    "\n",
    "\n",
    "def integrand(x:float, chosen_posterior:Posterior, other_posteriors:List[Posterior]) -> float: # posterior is M_i\n",
    "    # get prob that every other posterior is lower\n",
    "    prob_lower = prob_all_lower(x,other_posteriors)\n",
    "    \n",
    "    # get pdf value of pdf for chosen_posterior (M_i)\n",
    "    pdf_val_chosen = chosen_posterior.get_pdf(x)\n",
    "\n",
    "    return pdf_val_chosen*prob_lower\n",
    "\n",
    "def mc_integrate(func, a, b, n = 1000):\n",
    "    # Monte Carlo integration between x1 and x2 of given function from a to b\n",
    "    \n",
    "    vals = np.random.uniform(a, b, n)\n",
    "    y = [func(val) for val in vals]\n",
    "    \n",
    "    y_mean = np.sum(y)/n\n",
    "    integ = (b-a) * y_mean\n",
    "    \n",
    "    return integ\n",
    "\n",
    "def get_PrIsMax(chosen_posterior:Posterior, other_posteriors:List[Posterior], \n",
    "                l:float, u:float, method=\"not mc\", n=1000) -> float:\n",
    "    func = lambda x: integrand(x, chosen_posterior, other_posteriors)\n",
    "    if method == \"monte_carlo\": # can add more integration methods here\n",
    "        return mc_integrate(func, l, u, n)\n",
    "    else:\n",
    "        return integrate.quad(func, l, u) \n",
    "\n",
    "\n",
    "\n",
    "\n",
    "    "
   ]
  },
  {
   "cell_type": "code",
   "execution_count": 576,
   "metadata": {},
   "outputs": [
    {
     "data": {
      "text/plain": [
       "0.7000000025106646"
      ]
     },
     "execution_count": 576,
     "metadata": {},
     "output_type": "execute_result"
    }
   ],
   "source": [
    "prob_all_lower(x=0.38,other_posteriors=[caffeine_post, placebo_post]) # tests"
   ]
  },
  {
   "cell_type": "code",
   "execution_count": 577,
   "metadata": {},
   "outputs": [
    {
     "name": "stdout",
     "output_type": "stream",
     "text": [
      "IsMax aspirin:  0.8977174726614005\n",
      "Aspirin IsMax error:  1.0120750987940852e-05\n"
     ]
    },
    {
     "name": "stderr",
     "output_type": "stream",
     "text": [
      "/var/folders/nf/894cqyvd0g116lz_vn_6x6ym0000gn/T/ipykernel_64792/3355032701.py:48: IntegrationWarning: The maximum number of subdivisions (50) has been achieved.\n",
      "  If increasing the limit yields no improvement it is advised to analyze \n",
      "  the integrand in order to determine the difficulties.  If the position of a \n",
      "  local difficulty can be determined (singularity, discontinuity) one will \n",
      "  probably gain from splitting up the interval and calling the integrator \n",
      "  on the subranges.  Perhaps a special-purpose integrator should be used.\n",
      "  return integrate.quad(func, l, u)\n"
     ]
    }
   ],
   "source": [
    "# use u and l from earlier (maximum upper bound and maximum lower bound)\n",
    "ismax_aspirin, standard_error_aspirin = get_PrIsMax(aspirin_post, [caffeine_post, placebo_post], l, u)\n",
    "print(\"IsMax aspirin: \", ismax_aspirin)\n",
    "print(\"Aspirin IsMax error: \", standard_error_aspirin)"
   ]
  },
  {
   "cell_type": "code",
   "execution_count": 578,
   "metadata": {},
   "outputs": [
    {
     "name": "stdout",
     "output_type": "stream",
     "text": [
      "IsMax placebo:  0.10227272706487041\n",
      "Placebo IsMax error:  7.802089668773604e-10\n"
     ]
    }
   ],
   "source": [
    "ismax_placebo, standard_error_placebo = get_PrIsMax(placebo_post, [caffeine_post, aspirin_post], l, u)\n",
    "print(\"IsMax placebo: \", ismax_placebo)\n",
    "print(\"Placebo IsMax error: \", standard_error_placebo)"
   ]
  },
  {
   "cell_type": "code",
   "execution_count": 595,
   "metadata": {},
   "outputs": [
    {
     "name": "stdout",
     "output_type": "stream",
     "text": [
      "IsMax placebo:  0.0\n",
      "caffeine IsMax error:  0.0\n"
     ]
    }
   ],
   "source": [
    "ismax_caffeine, standard_error_caffeine = get_PrIsMax(caffeine_post, [caffeine_post, aspirin_post], l, u)\n",
    "print(\"IsMax placebo: \", ismax_caffeine)\n",
    "print(\"caffeine IsMax error: \", standard_error_caffeine)"
   ]
  },
  {
   "cell_type": "markdown",
   "metadata": {},
   "source": [
    "Verify that isMax probabilities sum to one (or something very close to 1)."
   ]
  },
  {
   "cell_type": "code",
   "execution_count": 594,
   "metadata": {},
   "outputs": [
    {
     "name": "stdout",
     "output_type": "stream",
     "text": [
      "0.9999901997262709\n"
     ]
    }
   ],
   "source": [
    "print(ismax_aspirin+ismax_caffeine+ismax_placebo)"
   ]
  },
  {
   "cell_type": "markdown",
   "metadata": {},
   "source": [
    "### Calculating BER\n",
    "\n",
    "This example is small enough to directly calculate lower and upper bounds of BER with the summation form of Definition 4.3 (Sekeh et. al.) without the use of estimation techniques. (For more complex problems with many causes $|\\mathcal{O}| = 2^{|\\mathcal{C}|}$ may be very large, so it may be more practical apply the estimation techniques while treating the observations as continuous).\n",
    "\n",
    "$$\\epsilon = 1 - \\sum_{\\mathbf{x} \\in \\mathcal{O}} \\Pr(\\textbf{x})\\max_i \\Pr(C_i|\\textbf{x}).$$"
   ]
  },
  {
   "cell_type": "code",
   "execution_count": 596,
   "metadata": {},
   "outputs": [],
   "source": [
    "def get_posteriors(i:int, j:int, cause_objs:List[Cause], upper:bool):\n",
    "    # get list of poteriors for the [i,j] observation vector\n",
    "    posteriors = []\n",
    "    for cause in cause_objs:\n",
    "        posterior_obj = cause.posteriors[i][j]\n",
    "        if upper:\n",
    "            posteriors.append(posterior_obj.upper)\n",
    "        else:\n",
    "            posteriors.append(posterior_obj.lower)\n",
    "    return posteriors    \n"
   ]
  },
  {
   "cell_type": "markdown",
   "metadata": {},
   "source": [
    "Upper bound of BER"
   ]
  },
  {
   "cell_type": "code",
   "execution_count": 598,
   "metadata": {},
   "outputs": [
    {
     "name": "stdout",
     "output_type": "stream",
     "text": [
      "BER upper bounds: 0.5667\n"
     ]
    }
   ],
   "source": [
    "ber_lower = 1 - sum([EVIDENCE_DIST[i][j]*max(get_posteriors(i,j, [aspirin, placebo, caffeine], \n",
    "                                                                upper=True)) \n",
    "                                                                for i in [0,1] for j in [0,1]])\n",
    "print(f\"BER upper bounds: {ber_upper}\")"
   ]
  },
  {
   "cell_type": "code",
   "execution_count": 599,
   "metadata": {},
   "outputs": [
    {
     "name": "stdout",
     "output_type": "stream",
     "text": [
      "BER lower bounds: 0.22999999999999998\n"
     ]
    }
   ],
   "source": [
    "ber_upper = 1 - sum([EVIDENCE_DIST[i][j]*max(get_posteriors(i,j, [aspirin, placebo, caffeine], \n",
    "                                                                upper=False)) \n",
    "                                                                for i in [0,1] for j in [0,1]])\n",
    "print(f\"BER lower bounds: {ber_lower}\")"
   ]
  },
  {
   "cell_type": "markdown",
   "metadata": {},
   "source": [
    "### Calculate Abductive Error Guarantees\n",
    "Now that we have $\\epsilon_{lower}$, $\\epsilon_{upper}$, and the IsMax values for all possible causes, we can follow section 4.3 to find the final general error rate bounds."
   ]
  },
  {
   "cell_type": "markdown",
   "metadata": {},
   "source": [
    "Calculate $\\gamma_{i,upper}$ and $\\gamma_{i,lower}$ for each cause, the error rate (when posterior $M_i$ is chosen) given the assumption that posteriors lie in their 95% confidence intervals.\n",
    "$$\n",
    "    \\gamma_{i,upper} = \\epsilon_{\\text{upper}}\\Pr(IsMax(M_i)) + (1-l_i)(1-\\Pr(IsMax(M_i)))\n",
    "$$\n",
    "\n",
    "and\n",
    "\n",
    "$$\n",
    "\\gamma_{i,lower} = \\epsilon_{\\text{lower}}\\Pr(IsMax (M_i)) + (1-u_i)(1-\\Pr(IsMax(M_i)))\n",
    "$$"
   ]
  },
  {
   "cell_type": "markdown",
   "metadata": {},
   "source": [
    "Set the preferred observation vector."
   ]
  },
  {
   "cell_type": "code",
   "execution_count": 600,
   "metadata": {},
   "outputs": [],
   "source": [
    "pill = 1 # did you take a pill?\n",
    "relief = 0 # was your headache relieved?"
   ]
  },
  {
   "cell_type": "code",
   "execution_count": 601,
   "metadata": {},
   "outputs": [
    {
     "name": "stdout",
     "output_type": "stream",
     "text": [
      "{'aspirin': 0.5752201345273052, 'caffeine': 0.9893333333333333, 'placebo': 0.6564428030510817}\n",
      "{'aspirin': 0.25420686480346855, 'caffeine': 0.9333333333333333, 'placebo': 0.5621590909859979}\n"
     ]
    }
   ],
   "source": [
    "# maps cause object to probability of wrong abduction and posterior is maximum\n",
    "gamma_upper = {\n",
    "    \"aspirin\"  : ber_upper*ismax_aspirin + \n",
    "                (1-aspirin.posteriors[pill][relief].lower)*(1-ismax_aspirin),\n",
    "    \"caffeine\" : ber_upper*ismax_caffeine + \n",
    "                (1-caffeine.posteriors[pill][relief].lower)*(1-ismax_caffeine),\n",
    "    \"placebo\"  : ber_upper*ismax_placebo + \n",
    "                (1-placebo.posteriors[pill][relief].lower)*(1-ismax_placebo),\n",
    "    } \n",
    "\n",
    "gamma_lower = {\n",
    "    \"aspirin\"  : ber_lower*ismax_aspirin + \n",
    "                (1-aspirin.posteriors[pill][relief].upper)*(1-ismax_aspirin),\n",
    "    \"caffeine\" : ber_lower*ismax_caffeine + \n",
    "                (1-caffeine.posteriors[pill][relief].upper)*(1-ismax_caffeine),\n",
    "    \"placebo\"  : ber_lower*ismax_placebo + \n",
    "                (1-placebo.posteriors[pill][relief].upper)*(1-ismax_placebo),\n",
    "    } \n",
    "\n",
    "\n",
    "print(gamma_upper)\n",
    "print(gamma_lower)"
   ]
  },
  {
   "cell_type": "markdown",
   "metadata": {},
   "source": [
    "Referring to the diagram of posterior bounds, causes \"aspirin\" and \"placebo\" have error rates around 50% because they are tied winners with close midpoints, and so either cause may be the true maximum posterior. Caffeine has an extremely high error rate because if it is contained inside its 95% bounds, it has no chance of being the maximum posterior."
   ]
  },
  {
   "cell_type": "markdown",
   "metadata": {},
   "source": [
    "Compute the final bounds.\n",
    "\n",
    "$$\\Pr(W)\\leq 1-q^k(1-\\gamma_{\\text{i, upper}})$$\n",
    "\n",
    "$$\\Pr(W)\\geq \\gamma_{\\text{i, lower}} q^k$$"
   ]
  },
  {
   "cell_type": "code",
   "execution_count": 624,
   "metadata": {},
   "outputs": [
    {
     "name": "stdout",
     "output_type": "stream",
     "text": [
      "General error upper bounds of: [1, 0]\n",
      " {'aspirin': 0.6358043628403484, 'caffeine': 0.9908546666666667, 'placebo': 0.7054426482659213}\n",
      "General error lower bounds: [1, 0]\n",
      " {'aspirin': 0.21795061071087382, 'caffeine': 0.8002166666666666, 'placebo': 0.4819811506341199}\n"
     ]
    }
   ],
   "source": [
    "\n",
    "k = 3 # there are 3 selected causes\n",
    "general_upper = {key : 1-(Q_CONFIDENCE**k)*(1-gamma_bound) for key, gamma_bound in gamma_upper.items()}\n",
    "\n",
    "general_lower = {key : gamma_bound*Q_CONFIDENCE**k for key, gamma_bound in gamma_lower.items()}\n",
    "\n",
    "\n",
    "print(f\"General error upper bounds of: {[pill, relief]}\\n\", general_upper)\n",
    "print(f\"General error lower bounds: {[pill, relief]}\\n\", general_lower)\n"
   ]
  },
  {
   "cell_type": "markdown",
   "metadata": {},
   "source": [
    "We can do the same for all other observation vectors"
   ]
  },
  {
   "cell_type": "code",
   "execution_count": 659,
   "metadata": {},
   "outputs": [],
   "source": [
    "def get_general_bounds(pill, relief):\n",
    "    gamma_upper = {\n",
    "        \"aspirin\"  : ber_upper*ismax_aspirin + \n",
    "                    (1-aspirin.posteriors[pill][relief].lower)*(1-ismax_aspirin),\n",
    "        \"caffeine\" : ber_upper*ismax_caffeine + \n",
    "                    (1-caffeine.posteriors[pill][relief].lower)*(1-ismax_caffeine),\n",
    "        \"placebo\"  : ber_upper*ismax_placebo + \n",
    "                    (1-placebo.posteriors[pill][relief].lower)*(1-ismax_placebo),\n",
    "        } \n",
    "\n",
    "    gamma_lower = {\n",
    "        \"aspirin\"  : ber_lower*ismax_aspirin + \n",
    "                    (1-aspirin.posteriors[pill][relief].upper)*(1-ismax_aspirin),\n",
    "        \"caffeine\" : ber_lower*ismax_caffeine + \n",
    "                    (1-caffeine.posteriors[pill][relief].upper)*(1-ismax_caffeine),\n",
    "        \"placebo\"  : ber_lower*ismax_placebo + \n",
    "                    (1-placebo.posteriors[pill][relief].upper)*(1-ismax_placebo),\n",
    "        } \n",
    "\n",
    "\n",
    "    k = 3 # there are 3 selected causes\n",
    "    general_upper = {key : 1-(Q_CONFIDENCE**k)*(1-gamma_bound) for key, gamma_bound in gamma_upper.items()}\n",
    "\n",
    "    general_lower = {key : gamma_bound*Q_CONFIDENCE**k for key, gamma_bound in gamma_lower.items()}\n",
    "\n",
    "    for post in [\"caffeine\", \"placebo\", \"aspirin\"]:\n",
    "        lower = \"{:2f}\".format(general_lower[post])\n",
    "        upper = \"{:2f}\".format(general_upper[post])\n",
    "        print(f\"Selecting posterior `{post}` has error rate bounds: ({lower}, {upper})\")\n",
    "    # print(f\"General error upper bounds of {[pill, relief]}\")\n",
    "    # for post, prob in general_upper.items():\n",
    "    #     print(f\"Selecting posterior `{post}` has \")\n",
    "    # print(f\"General error lower bounds {[pill, relief]}\\n\", general_lower)\n",
    "    # return # general_upper, general_lower"
   ]
  },
  {
   "cell_type": "code",
   "execution_count": 660,
   "metadata": {},
   "outputs": [
    {
     "name": "stdout",
     "output_type": "stream",
     "text": [
      "Selecting posterior `caffeine` has error rate bounds: (0.142896, 0.451280)\n",
      "Selecting posterior `placebo` has error rate bounds: (0.738544, 0.956874)\n",
      "Selecting posterior `aspirin` has error rate bounds: (0.255952, 0.664159)\n"
     ]
    }
   ],
   "source": [
    "get_general_bounds(0,0)"
   ]
  },
  {
   "cell_type": "code",
   "execution_count": 661,
   "metadata": {},
   "outputs": [
    {
     "name": "stdout",
     "output_type": "stream",
     "text": [
      "Selecting posterior `caffeine` has error rate bounds: (0.171475, 0.506152)\n",
      "Selecting posterior `placebo` has error rate bounds: (0.743675, 0.958927)\n",
      "Selecting posterior `aspirin` has error rate bounds: (0.252444, 0.662288)\n"
     ]
    }
   ],
   "source": [
    "get_general_bounds(0,1)"
   ]
  },
  {
   "cell_type": "code",
   "execution_count": 662,
   "metadata": {},
   "outputs": [
    {
     "name": "stdout",
     "output_type": "stream",
     "text": [
      "Selecting posterior `caffeine` has error rate bounds: (0.737342, 0.945128)\n",
      "Selecting posterior `placebo` has error rate bounds: (0.743675, 0.958157)\n",
      "Selecting posterior `aspirin` has error rate bounds: (0.194565, 0.638435)\n"
     ]
    }
   ],
   "source": [
    "get_general_bounds(1,1)"
   ]
  },
  {
   "cell_type": "markdown",
   "metadata": {},
   "source": [
    "### Extra\n",
    "Graphing function for posterior ranges of any observation"
   ]
  },
  {
   "cell_type": "code",
   "execution_count": 663,
   "metadata": {},
   "outputs": [],
   "source": [
    "def get_CIs(pill, relief):\n",
    "    aspirin_post = aspirin.posteriors[pill][relief]\n",
    "    placebo_post = placebo.posteriors[pill][relief]\n",
    "    caffeine_post = caffeine.posteriors[pill][relief]\n",
    "\n",
    "    aspirin_post.color = \"red\"\n",
    "    caffeine_post.color = \"orange\"\n",
    "    \n",
    "    posteriors = [aspirin_post,\n",
    "                placebo_post,\n",
    "                caffeine_post]\n",
    "\n",
    "        # Create a figure and axis\n",
    "    fig, ax = plt.subplots()\n",
    "    bar_width = 0.3\n",
    "\n",
    "    # Plot the first horizontal line (stick) with confidence interval\n",
    "\n",
    "    count = 1 # determines y-position on graph\n",
    "\n",
    "    upper_bounds = []\n",
    "    lower_bounds = []\n",
    "    for posterior in posteriors:\n",
    "        upper_bounds.append(posterior.upper)\n",
    "        lower_bounds.append(posterior.lower)\n",
    "\n",
    "        ax.plot([posterior.lower, posterior.upper], \n",
    "                [count, count], label=posterior.name, color=posterior.color)\n",
    "        ax.fill_betweenx([count - bar_width, count + bar_width], posterior.lower, posterior.upper,\n",
    "                        color=posterior.color, alpha=0.2)\n",
    "\n",
    "        count += 1 # increment height\n",
    "\n",
    "    # Add labels and title\n",
    "    ax.set_xlabel('Posterior probability')\n",
    "    ax.set_yticks([1, 2, 3])\n",
    "    ax.set_yticklabels([posterior.name for posterior in posteriors])\n",
    "    ax.set_title(f\"Posterior Confidence Bounds for Observation {[pill, relief]}\")\n",
    "\n",
    "    # Add a legend\n",
    "    ax.legend()"
   ]
  },
  {
   "cell_type": "markdown",
   "metadata": {},
   "source": [
    "See all posterior ranges and results"
   ]
  },
  {
   "cell_type": "code",
   "execution_count": 664,
   "metadata": {},
   "outputs": [
    {
     "name": "stdout",
     "output_type": "stream",
     "text": [
      "Selecting posterior `caffeine` has error rate bounds: (0.142896, 0.451280)\n",
      "Selecting posterior `placebo` has error rate bounds: (0.738544, 0.956874)\n",
      "Selecting posterior `aspirin` has error rate bounds: (0.255952, 0.664159)\n"
     ]
    },
    {
     "data": {
      "image/png": "[encoded data removed]",
      "text/plain": [
       "<Figure size 432x288 with 1 Axes>"
      ]
     },
     "metadata": {
      "needs_background": "light"
     },
     "output_type": "display_data"
    }
   ],
   "source": [
    "get_CIs(0,0)\n",
    "get_general_bounds(0,0)"
   ]
  },
  {
   "cell_type": "code",
   "execution_count": 665,
   "metadata": {},
   "outputs": [
    {
     "name": "stdout",
     "output_type": "stream",
     "text": [
      "Selecting posterior `caffeine` has error rate bounds: (0.171475, 0.506152)\n",
      "Selecting posterior `placebo` has error rate bounds: (0.743675, 0.958927)\n",
      "Selecting posterior `aspirin` has error rate bounds: (0.252444, 0.662288)\n"
     ]
    },
    {
     "data": {
      "image/png": "[encoded data removed]",
      "text/plain": [
       "<Figure size 432x288 with 1 Axes>"
      ]
     },
     "metadata": {
      "needs_background": "light"
     },
     "output_type": "display_data"
    }
   ],
   "source": [
    "get_CIs(0,1)\n",
    "get_general_bounds(0,1)"
   ]
  },
  {
   "cell_type": "code",
   "execution_count": 666,
   "metadata": {},
   "outputs": [
    {
     "name": "stdout",
     "output_type": "stream",
     "text": [
      "Selecting posterior `caffeine` has error rate bounds: (0.800217, 0.990855)\n",
      "Selecting posterior `placebo` has error rate bounds: (0.481981, 0.705443)\n",
      "Selecting posterior `aspirin` has error rate bounds: (0.217951, 0.635804)\n"
     ]
    },
    {
     "data": {
      "image/png": "[encoded data removed]",
      "text/plain": [
       "<Figure size 432x288 with 1 Axes>"
      ]
     },
     "metadata": {
      "needs_background": "light"
     },
     "output_type": "display_data"
    }
   ],
   "source": [
    "get_CIs(1,0)\n",
    "get_general_bounds(1,0)"
   ]
  },
  {
   "cell_type": "code",
   "execution_count": 667,
   "metadata": {},
   "outputs": [
    {
     "name": "stdout",
     "output_type": "stream",
     "text": [
      "Selecting posterior `caffeine` has error rate bounds: (0.737342, 0.945128)\n",
      "Selecting posterior `placebo` has error rate bounds: (0.743675, 0.958157)\n",
      "Selecting posterior `aspirin` has error rate bounds: (0.194565, 0.638435)\n"
     ]
    },
    {
     "data": {
      "image/png": "[encoded data removed]",
      "text/plain": [
       "<Figure size 432x288 with 1 Axes>"
      ]
     },
     "metadata": {
      "needs_background": "light"
     },
     "output_type": "display_data"
    }
   ],
   "source": [
    "get_CIs(1,1)\n",
    "get_general_bounds(1,1)"
   ]
  }
 ],
 "metadata": {
  "kernelspec": {
   "display_name": "Python 3",
   "language": "python",
   "name": "python3"
  },
  "language_info": {
   "codemirror_mode": {
    "name": "ipython",
    "version": 3
   },
   "file_extension": ".py",
   "mimetype": "text/x-python",
   "name": "python",
   "nbconvert_exporter": "python",
   "pygments_lexer": "ipython3",
   "version": "3.8.9"
  }
 },
 "nbformat": 4,
 "nbformat_minor": 2
}
