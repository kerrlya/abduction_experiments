{
 "cells": [
  {
   "cell_type": "markdown",
   "metadata": {},
   "source": [
    "### Abduction example"
   ]
  },
  {
   "cell_type": "markdown",
   "metadata": {},
   "source": [
    "We will be abducing the cause of [\"headache relief\", \"pill swallowed\"] from the set of possible causes {\"took aspirin\", \"headache naturally disappeared\", \"took cyanide pill\"}"
   ]
  },
  {
   "cell_type": "markdown",
   "metadata": {},
   "source": [
    "### Prior confidence bounds for each case\n",
    "How common are the following events in the time frame we are abducing (in general)\n",
    "$$0.10 \\le \\Pr(\\text{taking aspirin}) \\le 0.15$$ \n",
    "$$0.05 \\le \\Pr(\\text{placebo/headache disappearing on its own}) \\le 0.07$$\n",
    "$$0 \\le \\Pr(\\text{ingesting cyanide}) \\le 0.0002$$\n",
    "\n"
   ]
  },
  {
   "cell_type": "code",
   "execution_count": 132,
   "metadata": {},
   "outputs": [],
   "source": [
    "aspirin_prior_u = 0.4#3\n",
    "aspirin_prior_l = 0.2\n",
    "\n",
    "nothing_prior_u = 0.7#40\n",
    "nothing_prior_l = 0.15\n",
    "\n",
    "cyanide_prior_u = 0.002\n",
    "cyanide_prior_l = 0\n",
    "\n"
   ]
  },
  {
   "cell_type": "markdown",
   "metadata": {},
   "source": [
    "### Likelihood PMFs upper/lower bounds for each cause\n",
    "---> pill taken (yes, no) x- axis\n",
    "\n",
    "\n"
   ]
  },
  {
   "cell_type": "code",
   "execution_count": 133,
   "metadata": {},
   "outputs": [],
   "source": [
    "import numpy as np\n",
    "\n",
    "\n",
    "aspirin_likelihood_u = np.array([[0.725,0.125], # (pill taken, headache relieved) | (no pill taken, headache relieved)\n",
    "                                 [0.175, 0.075]])    # (pill taken, no headache relieved) | (no pill taken, no headache relieved)\n",
    "aspirin_likelihood_l = np.array([[0.675,0.075],\n",
    "                        [0.125, 0.025]])\n",
    "\n",
    "\n",
    "nothing_likelihood_u = np.array([[0.05, 0.3],\n",
    "                        [0.05, 0.8]])\n",
    "nothing_likelihood_l = np.array([[0.001, 0.2],\n",
    "                        [0.002, 0.7]])\n",
    "\n",
    "\n",
    "cyanide_likelihood_u = np.array([[0.99,0.01],\n",
    "                        [0,0]])\n",
    "cyanide_likelihood_l = np.array([[0.98, 0.005],\n",
    "                        [0,0]])\n",
    "\n"
   ]
  },
  {
   "cell_type": "markdown",
   "metadata": {},
   "source": [
    "Posterior distributions"
   ]
  },
  {
   "cell_type": "code",
   "execution_count": 135,
   "metadata": {},
   "outputs": [
    {
     "name": "stdout",
     "output_type": "stream",
     "text": [
      "[[0.29 0.05]\n",
      " [0.07 0.03]]\n",
      "[[0.135 0.015]\n",
      " [0.025 0.005]]\n"
     ]
    }
   ],
   "source": [
    "aspirin_posterior_u = aspirin_prior_u*aspirin_likelihood_u\n",
    "aspirin_posterior_l = aspirin_prior_l*aspirin_likelihood_l\n",
    "print(aspirin_posterior_u)\n",
    "print(aspirin_posterior_l)\n",
    "\n"
   ]
  },
  {
   "cell_type": "code",
   "execution_count": 136,
   "metadata": {},
   "outputs": [
    {
     "name": "stdout",
     "output_type": "stream",
     "text": [
      "[[0.035 0.21 ]\n",
      " [0.035 0.56 ]]\n",
      "[[0.00015 0.03   ]\n",
      " [0.0003  0.105  ]]\n"
     ]
    }
   ],
   "source": [
    "nothing_posterior_u = nothing_prior_u*nothing_likelihood_u\n",
    "nothing_posterior_l = nothing_prior_l*nothing_likelihood_l\n",
    "print(nothing_posterior_u)\n",
    "print(nothing_posterior_l)"
   ]
  },
  {
   "cell_type": "code",
   "execution_count": 137,
   "metadata": {},
   "outputs": [
    {
     "name": "stdout",
     "output_type": "stream",
     "text": [
      "[[1.98e-03 2.00e-05]\n",
      " [0.00e+00 0.00e+00]]\n",
      "[[0. 0.]\n",
      " [0. 0.]]\n"
     ]
    }
   ],
   "source": [
    "cyanide_posterior_u = cyanide_prior_u*cyanide_likelihood_u\n",
    "cyanide_posterior_l = cyanide_prior_l*cyanide_likelihood_l\n",
    "print(cyanide_posterior_u)\n",
    "print(cyanide_posterior_l)"
   ]
  },
  {
   "cell_type": "markdown",
   "metadata": {},
   "source": [
    "Consider the observation (pill taken (0), headache is not relieved (1)). Our posterior bounds are overlapping as follows."
   ]
  },
  {
   "cell_type": "code",
   "execution_count": 138,
   "metadata": {},
   "outputs": [],
   "source": [
    "# choose observation vector\n",
    "pill_taken = True\n",
    "headache_relieved = False"
   ]
  },
  {
   "cell_type": "code",
   "execution_count": 139,
   "metadata": {},
   "outputs": [],
   "source": [
    "pill_i = 0 if pill_taken else 1\n",
    "headache_i = 0 if headache_relieved else 1"
   ]
  },
  {
   "cell_type": "code",
   "execution_count": 242,
   "metadata": {},
   "outputs": [],
   "source": [
    "# Define the variables (skipping for time)\n",
    "a1, a2 =  0.23, 0.30 # aspirin\n",
    "b1, b2 = 0.15,0.25 # placebo\n",
    "c1, c2 = 0,0.002 # cyanide\n",
    "d1, d2 = 0.2,0.4 # caffiene\n",
    "\n",
    "# Define the confidence bounds (as the height of the confidence interval)\n",
    "ci_a = 0.3\n",
    "ci_b = 0.3\n",
    "ci_c = 0.3\n",
    "ci_d = 0.3"
   ]
  },
  {
   "cell_type": "code",
   "execution_count": 244,
   "metadata": {},
   "outputs": [
    {
     "data": {
      "image/png": "[encoded data removed]",
      "text/plain": [
       "<Figure size 432x288 with 1 Axes>"
      ]
     },
     "metadata": {
      "needs_background": "light"
     },
     "output_type": "display_data"
    }
   ],
   "source": [
    "import matplotlib.pyplot as plt\n",
    "import numpy as np\n",
    "\n",
    "# Create a figure and axis\n",
    "fig, ax = plt.subplots()\n",
    "\n",
    "# Plot the first horizontal line (stick) with confidence interval\n",
    "ax.plot([a1, a2], [1, 1], label='Aspirin', color='blue')\n",
    "ax.fill_betweenx([1 - ci_a, 1 + ci_a], a1, a2, color='blue', alpha=0.2)\n",
    "\n",
    "# Plot the second horizontal line (stick) with confidence interval\n",
    "ax.plot([b1, b2], [2, 2], label='Placebo', color='red')\n",
    "ax.fill_betweenx([2 - ci_b, 2 + ci_b], b1, b2, color='red', alpha=0.2)\n",
    "\n",
    "\n",
    "\n",
    "# Plot the third horizontal line (stick) with confidence interval\n",
    "ax.plot([d1, d2], [3, 3], label='Caffeine', color='orange')\n",
    "ax.fill_betweenx([3 - ci_d, 3 + ci_d], d1, d2, color='orange', alpha=0.2)\n",
    "\n",
    "# Plot the third horizontal line (stick) with confidence interval\n",
    "ax.plot([c1, c2], [4, 4], label='Cyanide', color='green')\n",
    "ax.fill_betweenx([4 - ci_c, 4 + ci_c], c1, c2, color='green', alpha=0.2)\n",
    "\n",
    "\n",
    "\n",
    "\n",
    "# Add labels and title\n",
    "ax.set_xlabel('Posterior probability')\n",
    "ax.set_yticks([1, 2, 3, 4])\n",
    "ax.set_yticklabels(['Aspirin', 'Placebo', 'Caffeine', 'Cyanide'])\n",
    "ax.set_title(f'Posterior Confidence Bounds for pill_taken={pill_taken}, headache_relieved={headache_relieved}')\n",
    "\n",
    "# Add a legend\n",
    "ax.legend()\n",
    "\n",
    "# Show the plot\n",
    "plt.show()\n"
   ]
  },
  {
   "cell_type": "markdown",
   "metadata": {},
   "source": [
    "At this step, we assume each possibility lies in their $q$-percent confidence interval, the bound of the maximum posterior is [0.23, 0.4] (left side of the orange bound to the right side of the red bound)."
   ]
  },
  {
   "cell_type": "markdown",
   "metadata": {},
   "source": [
    "### Finding $\\Pr(IsMax(M_i))$"
   ]
  },
  {
   "cell_type": "markdown",
   "metadata": {},
   "source": [
    "Let $\\mathcal M' \\subseteq \\mathcal M$ denote the set of posteriors whose confidence intervals intersect with $[l,u]$. The probability that $M_i \\in \\mathcal M'$ is the maximum posterior is as follows:\n",
    "            $$\\Pr( IsMax(M_i)) =\n",
    "            \\int_{l}^{u} {\\Pr\\left(M_i = x, \\bigcap_{\\substack{M_j \\in \\mathcal M',\\\\ C_j\\neq C_i}}{(M_j<x)}\\right)}dx. $$\n",
    "\n",
    "Let $y$ and $z$ represent the other two posterior values. The positions of these posteriors is not independent. For $M_i = x$ to be the maximum posterior must ensure that (1) $1-(x+y+z) < x$, so that posterior of $C_{other}$ (the remaining cause posterior) is not maximum, and (2) $x+y+z < 1$. I think the solution here is to integrate over a joint pdf. The question is how to form that pdf while having it still sum to 1."
   ]
  },
  {
   "cell_type": "markdown",
   "metadata": {},
   "source": [
    "### Shortcut Attempt at $\\Pr(IsMax(M_i))$ by assuming independence\n",
    "This produced weird probabilities"
   ]
  },
  {
   "cell_type": "code",
   "execution_count": 237,
   "metadata": {},
   "outputs": [],
   "source": [
    "# pdfs of each\n",
    "aspirin_pdf = lambda x: 1/(0.25-0.15) \n",
    "placebo_pdf = lambda x: 1/(0.4-0.2)\n",
    "caffeine_pdf = lambda x: 1/(0.30-0.23)"
   ]
  },
  {
   "cell_type": "code",
   "execution_count": 235,
   "metadata": {},
   "outputs": [],
   "source": [
    "l = 0.23\n",
    "u = 0.4\n",
    "\n",
    "\n",
    "# choose other two \n",
    "def prob_max_approx(x, choice): # quick and dirty method without multivariable integration\n",
    "    # if x > 0.30: return 0\n",
    "    prob_caffeine_lower, prob_placebo_lower, prob_aspirin_lower = 1,1,1\n",
    "\n",
    "    if choice != \"caffeine\":\n",
    "        prob_caffeine_lower = 1 if x > 0.3 else (x-0.23)/(0.30-0.23)\n",
    "    # print(\"prob caffeine\", prob_caffeine_lower)\n",
    "    if choice != \"placebo\":\n",
    "        prob_placebo_lower = 1 if x > 0.4 else (x-0.2)/(0.4-0.2)\n",
    "    # print(\"prob placebo lower\", prob_placebo_lower)\n",
    "\n",
    "    if choice != \"aspirin\":\n",
    "        prob_aspirin_lower = 1 if x > 0.25 else (x-0.15)/(0.25-0.15)\n",
    "    # print(\"proba aspirin lower\", prob_aspirin_lower)\n",
    "\n",
    "    return (prob_aspirin_lower*prob_placebo_lower*prob_caffeine_lower)#/(u-l)"
   ]
  },
  {
   "cell_type": "code",
   "execution_count": 245,
   "metadata": {},
   "outputs": [
    {
     "data": {
      "text/plain": [
       "0.3857142857142855"
      ]
     },
     "execution_count": 245,
     "metadata": {},
     "output_type": "execute_result"
    }
   ],
   "source": [
    "prob_max_approx(0.29, \"aspirin\")"
   ]
  },
  {
   "cell_type": "markdown",
   "metadata": {},
   "source": [
    "probability max of placebo"
   ]
  },
  {
   "cell_type": "code",
   "execution_count": 246,
   "metadata": {},
   "outputs": [
    {
     "data": {
      "text/plain": [
       "0.08841666666659963"
      ]
     },
     "execution_count": 246,
     "metadata": {},
     "output_type": "execute_result"
    }
   ],
   "source": [
    "from scipy import integrate\n",
    "\n",
    "result, error = integrate.quad(lambda x: prob_max_approx(x, \"aspirin\"), l, u)\n",
    "\n",
    "result"
   ]
  },
  {
   "cell_type": "markdown",
   "metadata": {},
   "source": [
    "probability maximum posterior of aspirin"
   ]
  },
  {
   "cell_type": "code",
   "execution_count": 232,
   "metadata": {},
   "outputs": [
    {
     "data": {
      "text/plain": [
       "0.08841666666659963"
      ]
     },
     "execution_count": 232,
     "metadata": {},
     "output_type": "execute_result"
    }
   ],
   "source": [
    "result, error = integrate.quad(lambda x: prob_max_approx(x, \"aspirin\"), l, u)\n",
    "result"
   ]
  },
  {
   "cell_type": "code",
   "execution_count": 234,
   "metadata": {},
   "outputs": [
    {
     "data": {
      "text/plain": [
       "0.09738333241084063"
      ]
     },
     "execution_count": 234,
     "metadata": {},
     "output_type": "execute_result"
    }
   ],
   "source": [
    "result, error = integrate.quad(lambda x: prob_max_approx(x, \"caffeine\"), l, u)\n",
    "result"
   ]
  },
  {
   "cell_type": "code",
   "execution_count": 182,
   "metadata": {},
   "outputs": [
    {
     "data": {
      "text/plain": [
       "7.843131810680859e-09"
      ]
     },
     "execution_count": 182,
     "metadata": {},
     "output_type": "execute_result"
    }
   ],
   "source": [
    "error"
   ]
  },
  {
   "cell_type": "code",
   "execution_count": 238,
   "metadata": {},
   "outputs": [
    {
     "data": {
      "image/png": "[encoded data removed]",
      "text/plain": [
       "<Figure size 432x288 with 1 Axes>"
      ]
     },
     "metadata": {
      "needs_background": "light"
     },
     "output_type": "display_data"
    }
   ],
   "source": [
    "import numpy as np\n",
    "import matplotlib.pyplot as plt\n",
    "from scipy.integrate import dblquad\n",
    "\n",
    "# Define individual PDFs f_x(x), f_y(y), f_z(z)\n",
    "def f_x(x):\n",
    "    # Define your PDF for x here\n",
    "    return 1.0  # Placeholder\n",
    "\n",
    "def f_y(y):\n",
    "    # Define your PDF for y here\n",
    "    return 1.0  # Placeholder\n",
    "\n",
    "def f_z(z):\n",
    "    # Define your PDF for z here\n",
    "    return 1.0  # Placeholder\n",
    "\n",
    "# Define the joint PDF f_{xyz}(x, y, z)\n",
    "def f_xyz(x, y, z):\n",
    "    # Assuming a simple form for illustration\n",
    "    return f_x(x) * conditional_pdf_yz(y, z, x)\n",
    "\n",
    "# Define the conditional PDF f_{y,z}(y, z | x)\n",
    "def conditional_pdf_yz(y, z, x):\n",
    "    # Define the conditional PDF of y and z given x\n",
    "    if 1 - 2*x < y + z < 1:\n",
    "        # Return the conditional PDF\n",
    "        return 1.0  # Placeholder\n",
    "    else:\n",
    "        return 0.0\n",
    "\n",
    "# Define the valid range for x, y, z\n",
    "x_range = np.linspace(0, 1, 100)\n",
    "y_range = np.linspace(0, 1, 100)\n",
    "z_range = np.linspace(0, 1, 100)\n",
    "\n",
    "# Calculate the joint PDF over the valid ranges\n",
    "joint_pdf = np.zeros((len(x_range), len(y_range), len(z_range)))\n",
    "for i, x in enumerate(x_range):\n",
    "    for j, y in enumerate(y_range):\n",
    "        for k, z in enumerate(z_range):\n",
    "            joint_pdf[i, j, k] = f_xyz(x, y, z)\n",
    "\n",
    "# Plotting\n",
    "# Visualize the joint PDF (e.g., marginalize over y and z)\n",
    "marginal_x = np.trapz(np.trapz(joint_pdf, y_range, axis=1), z_range, axis=1)\n",
    "\n",
    "plt.plot(x_range, marginal_x)\n",
    "plt.xlabel('x')\n",
    "plt.ylabel('f_x(x)')\n",
    "plt.title('Marginal PDF f_x(x)')\n",
    "plt.show()"
   ]
  }
 ],
 "metadata": {
  "kernelspec": {
   "display_name": "Python 3",
   "language": "python",
   "name": "python3"
  },
  "language_info": {
   "codemirror_mode": {
    "name": "ipython",
    "version": 3
   },
   "file_extension": ".py",
   "mimetype": "text/x-python",
   "name": "python",
   "nbconvert_exporter": "python",
   "pygments_lexer": "ipython3",
   "version": "3.8.9"
  }
 },
 "nbformat": 4,
 "nbformat_minor": 2
}
